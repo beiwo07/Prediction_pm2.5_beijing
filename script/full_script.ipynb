{
 "cells": [
  {
   "cell_type": "markdown",
   "id": "0eab9827",
   "metadata": {},
   "source": [
    "# Predicting Particulate Matter of 2.5 Microns or Less in Diameter (PM 2.5)\n",
    "## The Beijing Multi-Site Air-Quality Data \n",
    "\n",
    "#### Bei Wang, PhD student in epidemiology at dpt of PHS\n",
    "03/18/2022\n",
    "\n",
    "Presentation video link: https://drive.google.com/file/d/1FkOaCVWzPbsL4EFVrqaFz27en6RaLTXC/view?usp=sharing"
   ]
  },
  {
   "cell_type": "markdown",
   "id": "2d2d2756",
   "metadata": {},
   "source": [
    "### Background and importance\n",
    "\n",
    "PM2.5 is a widespread and inhalable air pollutant that has serious health effects. Data on PM2.5 concentration is important as they advice robust policies for substantial decreases in PM2.5. In developed countries, nearly all urban areas have a few air quality PM2.5 monitors. Larger cities tend to have more. It is estimated that there is averagely one monitor per 100-600k residents in Europe and North America (World Health Organization, 2018). But in less developed regions and countries, there is limited or no measurements of air pollution including PM2.5. In sub-Saharan Africa, the average is one monitor per 15.9 million residents (WHO Global Ambient Air Quality Database, 2016). Therefore, my task is based on the idea that a model developed from on available PM2.5 data may help predict PM2.5 in areas where there is limited to no monitoring. \n",
    "\n",
    "### Task\n",
    "\n",
    "My task if a regression task predicting outdoor PM.2.5 (ug/m^3) using the Beijing Multi-site air quality data. The original dataset has 420768 hourly observations over 5 years (2013-17) across 12 air-quality monitoring sites in Beijing, China.  \n",
    "\n",
    "(Data link: https://archive.ics.uci.edu/ml/datasets/Beijing+Multi-Site+Air-Quality+Data)\n",
    "\n",
    "\n",
    "\n",
    "**Attribute information**\n",
    "- No: row number of observation in each site\n",
    "- year: year of data in this row\n",
    "- month: month of data in this row\n",
    "- day: day of data in this row\n",
    "- hour: hour of data in this row\n",
    "- PM2.5: PM2.5 concentration (ug/m^3)\n",
    "- PM10: PM10 concentration (ug/m^3)\n",
    "- SO2: SO2 concentration (ug/m^3)\n",
    "- NO2: NO2 concentration (ug/m^3)\n",
    "- CO: CO concentration (ug/m^3)\n",
    "- O3: O3 concentration (ug/m^3)\n",
    "- TEMP: temperature (degree Celsius)\n",
    "- PRES: pressure (hPa)\n",
    "- DEWP: dew point temperature (degree Celsius)\n",
    "- RAIN: precipitation (mm)\n",
    "- wd: wind direction\n",
    "- WSPM: wind speed (m/s)\n",
    "- station: name of the air-quality monitoring site"
   ]
  },
  {
   "cell_type": "markdown",
   "id": "c08faadb",
   "metadata": {},
   "source": [
    "### Imports"
   ]
  },
  {
   "cell_type": "code",
   "execution_count": 909,
   "id": "35faa5a6",
   "metadata": {},
   "outputs": [],
   "source": [
    "import pandas as pd \n",
    "import numpy as np \n",
    "import matplotlib.pyplot as plt\n",
    "from sklearn.impute import SimpleImputer\n",
    "from sklearn.model_selection import train_test_split \n",
    "from sklearn.preprocessing import OneHotEncoder\n",
    "import seaborn as sns \n",
    "import matplotlib.pyplot as plt\n",
    "from sklearn.linear_model import LinearRegression, Lasso, Ridge\n",
    "from sklearn.model_selection import train_test_split \n",
    "from sklearn.preprocessing import StandardScaler\n",
    "from sklearn.model_selection import  GridSearchCV,RandomizedSearchCV\n",
    "import dmba\n",
    "from sklearn.metrics import mean_squared_error, r2_score,mean_absolute_error\n",
    "from sklearn.tree import DecisionTreeRegressor\n",
    "from sklearn.base import clone\n",
    "from sklearn.svm import LinearSVR\n",
    "from sklearn.model_selection import cross_val_score\n",
    "from sklearn.svm import SVR\n",
    "from sklearn.ensemble import RandomForestRegressor\n",
    "import time\n",
    "import warnings\n",
    "warnings.filterwarnings('ignore')"
   ]
  },
  {
   "cell_type": "code",
   "execution_count": 910,
   "id": "c044ead8",
   "metadata": {},
   "outputs": [
    {
     "data": {
      "text/html": [
       "<div>\n",
       "<style scoped>\n",
       "    .dataframe tbody tr th:only-of-type {\n",
       "        vertical-align: middle;\n",
       "    }\n",
       "\n",
       "    .dataframe tbody tr th {\n",
       "        vertical-align: top;\n",
       "    }\n",
       "\n",
       "    .dataframe thead th {\n",
       "        text-align: right;\n",
       "    }\n",
       "</style>\n",
       "<table border=\"1\" class=\"dataframe\">\n",
       "  <thead>\n",
       "    <tr style=\"text-align: right;\">\n",
       "      <th></th>\n",
       "      <th>No</th>\n",
       "      <th>year</th>\n",
       "      <th>month</th>\n",
       "      <th>day</th>\n",
       "      <th>hour</th>\n",
       "      <th>PM2.5</th>\n",
       "      <th>PM10</th>\n",
       "      <th>SO2</th>\n",
       "      <th>NO2</th>\n",
       "      <th>CO</th>\n",
       "      <th>O3</th>\n",
       "      <th>TEMP</th>\n",
       "      <th>PRES</th>\n",
       "      <th>DEWP</th>\n",
       "      <th>RAIN</th>\n",
       "      <th>wd</th>\n",
       "      <th>WSPM</th>\n",
       "      <th>station</th>\n",
       "    </tr>\n",
       "  </thead>\n",
       "  <tbody>\n",
       "    <tr>\n",
       "      <th>0</th>\n",
       "      <td>1</td>\n",
       "      <td>2013</td>\n",
       "      <td>3</td>\n",
       "      <td>1</td>\n",
       "      <td>0</td>\n",
       "      <td>4.0</td>\n",
       "      <td>4.0</td>\n",
       "      <td>4.0</td>\n",
       "      <td>7.0</td>\n",
       "      <td>300.0</td>\n",
       "      <td>77.0</td>\n",
       "      <td>-0.7</td>\n",
       "      <td>1023.0</td>\n",
       "      <td>-18.8</td>\n",
       "      <td>0.0</td>\n",
       "      <td>NNW</td>\n",
       "      <td>4.4</td>\n",
       "      <td>Aotizhongxin</td>\n",
       "    </tr>\n",
       "    <tr>\n",
       "      <th>1</th>\n",
       "      <td>2</td>\n",
       "      <td>2013</td>\n",
       "      <td>3</td>\n",
       "      <td>1</td>\n",
       "      <td>1</td>\n",
       "      <td>8.0</td>\n",
       "      <td>8.0</td>\n",
       "      <td>4.0</td>\n",
       "      <td>7.0</td>\n",
       "      <td>300.0</td>\n",
       "      <td>77.0</td>\n",
       "      <td>-1.1</td>\n",
       "      <td>1023.2</td>\n",
       "      <td>-18.2</td>\n",
       "      <td>0.0</td>\n",
       "      <td>N</td>\n",
       "      <td>4.7</td>\n",
       "      <td>Aotizhongxin</td>\n",
       "    </tr>\n",
       "    <tr>\n",
       "      <th>2</th>\n",
       "      <td>3</td>\n",
       "      <td>2013</td>\n",
       "      <td>3</td>\n",
       "      <td>1</td>\n",
       "      <td>2</td>\n",
       "      <td>7.0</td>\n",
       "      <td>7.0</td>\n",
       "      <td>5.0</td>\n",
       "      <td>10.0</td>\n",
       "      <td>300.0</td>\n",
       "      <td>73.0</td>\n",
       "      <td>-1.1</td>\n",
       "      <td>1023.5</td>\n",
       "      <td>-18.2</td>\n",
       "      <td>0.0</td>\n",
       "      <td>NNW</td>\n",
       "      <td>5.6</td>\n",
       "      <td>Aotizhongxin</td>\n",
       "    </tr>\n",
       "    <tr>\n",
       "      <th>3</th>\n",
       "      <td>4</td>\n",
       "      <td>2013</td>\n",
       "      <td>3</td>\n",
       "      <td>1</td>\n",
       "      <td>3</td>\n",
       "      <td>6.0</td>\n",
       "      <td>6.0</td>\n",
       "      <td>11.0</td>\n",
       "      <td>11.0</td>\n",
       "      <td>300.0</td>\n",
       "      <td>72.0</td>\n",
       "      <td>-1.4</td>\n",
       "      <td>1024.5</td>\n",
       "      <td>-19.4</td>\n",
       "      <td>0.0</td>\n",
       "      <td>NW</td>\n",
       "      <td>3.1</td>\n",
       "      <td>Aotizhongxin</td>\n",
       "    </tr>\n",
       "    <tr>\n",
       "      <th>4</th>\n",
       "      <td>5</td>\n",
       "      <td>2013</td>\n",
       "      <td>3</td>\n",
       "      <td>1</td>\n",
       "      <td>4</td>\n",
       "      <td>3.0</td>\n",
       "      <td>3.0</td>\n",
       "      <td>12.0</td>\n",
       "      <td>12.0</td>\n",
       "      <td>300.0</td>\n",
       "      <td>72.0</td>\n",
       "      <td>-2.0</td>\n",
       "      <td>1025.2</td>\n",
       "      <td>-19.5</td>\n",
       "      <td>0.0</td>\n",
       "      <td>N</td>\n",
       "      <td>2.0</td>\n",
       "      <td>Aotizhongxin</td>\n",
       "    </tr>\n",
       "    <tr>\n",
       "      <th>...</th>\n",
       "      <td>...</td>\n",
       "      <td>...</td>\n",
       "      <td>...</td>\n",
       "      <td>...</td>\n",
       "      <td>...</td>\n",
       "      <td>...</td>\n",
       "      <td>...</td>\n",
       "      <td>...</td>\n",
       "      <td>...</td>\n",
       "      <td>...</td>\n",
       "      <td>...</td>\n",
       "      <td>...</td>\n",
       "      <td>...</td>\n",
       "      <td>...</td>\n",
       "      <td>...</td>\n",
       "      <td>...</td>\n",
       "      <td>...</td>\n",
       "      <td>...</td>\n",
       "    </tr>\n",
       "    <tr>\n",
       "      <th>420763</th>\n",
       "      <td>35060</td>\n",
       "      <td>2017</td>\n",
       "      <td>2</td>\n",
       "      <td>28</td>\n",
       "      <td>19</td>\n",
       "      <td>11.0</td>\n",
       "      <td>32.0</td>\n",
       "      <td>3.0</td>\n",
       "      <td>24.0</td>\n",
       "      <td>400.0</td>\n",
       "      <td>72.0</td>\n",
       "      <td>12.5</td>\n",
       "      <td>1013.5</td>\n",
       "      <td>-16.2</td>\n",
       "      <td>0.0</td>\n",
       "      <td>NW</td>\n",
       "      <td>2.4</td>\n",
       "      <td>Wanshouxigong</td>\n",
       "    </tr>\n",
       "    <tr>\n",
       "      <th>420764</th>\n",
       "      <td>35061</td>\n",
       "      <td>2017</td>\n",
       "      <td>2</td>\n",
       "      <td>28</td>\n",
       "      <td>20</td>\n",
       "      <td>13.0</td>\n",
       "      <td>32.0</td>\n",
       "      <td>3.0</td>\n",
       "      <td>41.0</td>\n",
       "      <td>500.0</td>\n",
       "      <td>50.0</td>\n",
       "      <td>11.6</td>\n",
       "      <td>1013.6</td>\n",
       "      <td>-15.1</td>\n",
       "      <td>0.0</td>\n",
       "      <td>WNW</td>\n",
       "      <td>0.9</td>\n",
       "      <td>Wanshouxigong</td>\n",
       "    </tr>\n",
       "    <tr>\n",
       "      <th>420765</th>\n",
       "      <td>35062</td>\n",
       "      <td>2017</td>\n",
       "      <td>2</td>\n",
       "      <td>28</td>\n",
       "      <td>21</td>\n",
       "      <td>14.0</td>\n",
       "      <td>28.0</td>\n",
       "      <td>4.0</td>\n",
       "      <td>38.0</td>\n",
       "      <td>500.0</td>\n",
       "      <td>54.0</td>\n",
       "      <td>10.8</td>\n",
       "      <td>1014.2</td>\n",
       "      <td>-13.3</td>\n",
       "      <td>0.0</td>\n",
       "      <td>NW</td>\n",
       "      <td>1.1</td>\n",
       "      <td>Wanshouxigong</td>\n",
       "    </tr>\n",
       "    <tr>\n",
       "      <th>420766</th>\n",
       "      <td>35063</td>\n",
       "      <td>2017</td>\n",
       "      <td>2</td>\n",
       "      <td>28</td>\n",
       "      <td>22</td>\n",
       "      <td>12.0</td>\n",
       "      <td>23.0</td>\n",
       "      <td>4.0</td>\n",
       "      <td>30.0</td>\n",
       "      <td>400.0</td>\n",
       "      <td>59.0</td>\n",
       "      <td>10.5</td>\n",
       "      <td>1014.4</td>\n",
       "      <td>-12.9</td>\n",
       "      <td>0.0</td>\n",
       "      <td>NNW</td>\n",
       "      <td>1.2</td>\n",
       "      <td>Wanshouxigong</td>\n",
       "    </tr>\n",
       "    <tr>\n",
       "      <th>420767</th>\n",
       "      <td>35064</td>\n",
       "      <td>2017</td>\n",
       "      <td>2</td>\n",
       "      <td>28</td>\n",
       "      <td>23</td>\n",
       "      <td>13.0</td>\n",
       "      <td>19.0</td>\n",
       "      <td>4.0</td>\n",
       "      <td>38.0</td>\n",
       "      <td>600.0</td>\n",
       "      <td>49.0</td>\n",
       "      <td>8.6</td>\n",
       "      <td>1014.1</td>\n",
       "      <td>-15.9</td>\n",
       "      <td>0.0</td>\n",
       "      <td>NNE</td>\n",
       "      <td>1.3</td>\n",
       "      <td>Wanshouxigong</td>\n",
       "    </tr>\n",
       "  </tbody>\n",
       "</table>\n",
       "<p>420768 rows × 18 columns</p>\n",
       "</div>"
      ],
      "text/plain": [
       "           No  year  month  day  hour  PM2.5  PM10   SO2   NO2     CO    O3  \\\n",
       "0           1  2013      3    1     0    4.0   4.0   4.0   7.0  300.0  77.0   \n",
       "1           2  2013      3    1     1    8.0   8.0   4.0   7.0  300.0  77.0   \n",
       "2           3  2013      3    1     2    7.0   7.0   5.0  10.0  300.0  73.0   \n",
       "3           4  2013      3    1     3    6.0   6.0  11.0  11.0  300.0  72.0   \n",
       "4           5  2013      3    1     4    3.0   3.0  12.0  12.0  300.0  72.0   \n",
       "...       ...   ...    ...  ...   ...    ...   ...   ...   ...    ...   ...   \n",
       "420763  35060  2017      2   28    19   11.0  32.0   3.0  24.0  400.0  72.0   \n",
       "420764  35061  2017      2   28    20   13.0  32.0   3.0  41.0  500.0  50.0   \n",
       "420765  35062  2017      2   28    21   14.0  28.0   4.0  38.0  500.0  54.0   \n",
       "420766  35063  2017      2   28    22   12.0  23.0   4.0  30.0  400.0  59.0   \n",
       "420767  35064  2017      2   28    23   13.0  19.0   4.0  38.0  600.0  49.0   \n",
       "\n",
       "        TEMP    PRES  DEWP  RAIN   wd  WSPM        station  \n",
       "0       -0.7  1023.0 -18.8   0.0  NNW   4.4   Aotizhongxin  \n",
       "1       -1.1  1023.2 -18.2   0.0    N   4.7   Aotizhongxin  \n",
       "2       -1.1  1023.5 -18.2   0.0  NNW   5.6   Aotizhongxin  \n",
       "3       -1.4  1024.5 -19.4   0.0   NW   3.1   Aotizhongxin  \n",
       "4       -2.0  1025.2 -19.5   0.0    N   2.0   Aotizhongxin  \n",
       "...      ...     ...   ...   ...  ...   ...            ...  \n",
       "420763  12.5  1013.5 -16.2   0.0   NW   2.4  Wanshouxigong  \n",
       "420764  11.6  1013.6 -15.1   0.0  WNW   0.9  Wanshouxigong  \n",
       "420765  10.8  1014.2 -13.3   0.0   NW   1.1  Wanshouxigong  \n",
       "420766  10.5  1014.4 -12.9   0.0  NNW   1.2  Wanshouxigong  \n",
       "420767   8.6  1014.1 -15.9   0.0  NNE   1.3  Wanshouxigong  \n",
       "\n",
       "[420768 rows x 18 columns]"
      ]
     },
     "execution_count": 910,
     "metadata": {},
     "output_type": "execute_result"
    }
   ],
   "source": [
    "# read in data in seperate files \n",
    "files= [\n",
    "\"PRSA_Data_Aotizhongxin_20130301-20170228.csv\", \n",
    "\"PRSA_Data_Changping_20130301-20170228.csv\", \n",
    "\"PRSA_Data_Dingling_20130301-20170228.csv\", \n",
    "\"PRSA_Data_Dongsi_20130301-20170228.csv\",\n",
    "\"PRSA_Data_Guanyuan_20130301-20170228.csv\",\n",
    "\"PRSA_Data_Gucheng_20130301-20170228.csv\",\n",
    "\"PRSA_Data_Huairou_20130301-20170228.csv\",\n",
    "\"PRSA_Data_Nongzhanguan_20130301-20170228.csv\",\n",
    "\"PRSA_Data_Shunyi_20130301-20170228.csv\",\n",
    "\"PRSA_Data_Tiantan_20130301-20170228.csv\",\n",
    "\"PRSA_Data_Wanliu_20130301-20170228.csv\",\n",
    "\"PRSA_Data_Wanshouxigong_20130301-20170228.csv\"]\n",
    "\n",
    "# combine all into one full dataframe\n",
    "dfs= []\n",
    "for file in files: \n",
    "    df= pd.read_csv(file)\n",
    "    dfs.append(df)\n",
    "pm= pd.concat(dfs, ignore_index= True)\n",
    "pm"
   ]
  },
  {
   "cell_type": "markdown",
   "id": "94339d9e",
   "metadata": {},
   "source": [
    "### 1. Data Exploration\n",
    "\n",
    "The dataframe stores 420768 observation of air quality across 12 sites, each site has data over 5 years with 35064 observation in each year. "
   ]
  },
  {
   "cell_type": "code",
   "execution_count": 911,
   "id": "2f9c0d71",
   "metadata": {},
   "outputs": [
    {
     "data": {
      "text/plain": [
       "Index(['No', 'year', 'month', 'day', 'hour', 'PM2.5', 'PM10', 'SO2', 'NO2',\n",
       "       'CO', 'O3', 'TEMP', 'PRES', 'DEWP', 'RAIN', 'wd', 'WSPM', 'station'],\n",
       "      dtype='object')"
      ]
     },
     "execution_count": 911,
     "metadata": {},
     "output_type": "execute_result"
    }
   ],
   "source": [
    "pm.columns"
   ]
  },
  {
   "cell_type": "code",
   "execution_count": 912,
   "id": "6c88a443",
   "metadata": {
    "scrolled": true
   },
   "outputs": [
    {
     "data": {
      "text/plain": [
       "No         35064\n",
       "year           5\n",
       "month         12\n",
       "day           31\n",
       "hour          24\n",
       "PM2.5        888\n",
       "PM10        1084\n",
       "SO2          691\n",
       "NO2         1212\n",
       "CO           132\n",
       "O3          1598\n",
       "TEMP        2034\n",
       "PRES         726\n",
       "DEWP         645\n",
       "RAIN         253\n",
       "wd            16\n",
       "WSPM         117\n",
       "station       12\n",
       "dtype: int64"
      ]
     },
     "execution_count": 912,
     "metadata": {},
     "output_type": "execute_result"
    }
   ],
   "source": [
    "pm.nunique()"
   ]
  },
  {
   "cell_type": "code",
   "execution_count": 913,
   "id": "2d67480e",
   "metadata": {
    "scrolled": false
   },
   "outputs": [
    {
     "data": {
      "text/plain": [
       "(420768, 18)"
      ]
     },
     "execution_count": 913,
     "metadata": {},
     "output_type": "execute_result"
    }
   ],
   "source": [
    "pm.shape"
   ]
  },
  {
   "cell_type": "code",
   "execution_count": 914,
   "id": "d7414207",
   "metadata": {},
   "outputs": [
    {
     "data": {
      "text/plain": [
       "No             0\n",
       "year           0\n",
       "month          0\n",
       "day            0\n",
       "hour           0\n",
       "PM2.5       8739\n",
       "PM10        6449\n",
       "SO2         9021\n",
       "NO2        12116\n",
       "CO         20701\n",
       "O3         13277\n",
       "TEMP         398\n",
       "PRES         393\n",
       "DEWP         403\n",
       "RAIN         390\n",
       "wd          1822\n",
       "WSPM         318\n",
       "station        0\n",
       "dtype: int64"
      ]
     },
     "execution_count": 914,
     "metadata": {},
     "output_type": "execute_result"
    }
   ],
   "source": [
    "#missing values \n",
    "pm.isnull().sum()"
   ]
  },
  {
   "cell_type": "code",
   "execution_count": 915,
   "id": "7ba61182",
   "metadata": {},
   "outputs": [
    {
     "name": "stdout",
     "output_type": "stream",
     "text": [
      "<class 'pandas.core.frame.DataFrame'>\n",
      "RangeIndex: 420768 entries, 0 to 420767\n",
      "Data columns (total 18 columns):\n",
      " #   Column   Non-Null Count   Dtype  \n",
      "---  ------   --------------   -----  \n",
      " 0   No       420768 non-null  int64  \n",
      " 1   year     420768 non-null  int64  \n",
      " 2   month    420768 non-null  int64  \n",
      " 3   day      420768 non-null  int64  \n",
      " 4   hour     420768 non-null  int64  \n",
      " 5   PM2.5    412029 non-null  float64\n",
      " 6   PM10     414319 non-null  float64\n",
      " 7   SO2      411747 non-null  float64\n",
      " 8   NO2      408652 non-null  float64\n",
      " 9   CO       400067 non-null  float64\n",
      " 10  O3       407491 non-null  float64\n",
      " 11  TEMP     420370 non-null  float64\n",
      " 12  PRES     420375 non-null  float64\n",
      " 13  DEWP     420365 non-null  float64\n",
      " 14  RAIN     420378 non-null  float64\n",
      " 15  wd       418946 non-null  object \n",
      " 16  WSPM     420450 non-null  float64\n",
      " 17  station  420768 non-null  object \n",
      "dtypes: float64(11), int64(5), object(2)\n",
      "memory usage: 57.8+ MB\n"
     ]
    }
   ],
   "source": [
    "pm.info()"
   ]
  },
  {
   "cell_type": "code",
   "execution_count": 916,
   "id": "eaed0832",
   "metadata": {
    "scrolled": true
   },
   "outputs": [
    {
     "data": {
      "text/html": [
       "<div>\n",
       "<style scoped>\n",
       "    .dataframe tbody tr th:only-of-type {\n",
       "        vertical-align: middle;\n",
       "    }\n",
       "\n",
       "    .dataframe tbody tr th {\n",
       "        vertical-align: top;\n",
       "    }\n",
       "\n",
       "    .dataframe thead th {\n",
       "        text-align: right;\n",
       "    }\n",
       "</style>\n",
       "<table border=\"1\" class=\"dataframe\">\n",
       "  <thead>\n",
       "    <tr style=\"text-align: right;\">\n",
       "      <th></th>\n",
       "      <th>No</th>\n",
       "      <th>year</th>\n",
       "      <th>month</th>\n",
       "      <th>day</th>\n",
       "      <th>hour</th>\n",
       "      <th>PM2.5</th>\n",
       "      <th>PM10</th>\n",
       "      <th>SO2</th>\n",
       "      <th>NO2</th>\n",
       "      <th>CO</th>\n",
       "      <th>O3</th>\n",
       "      <th>TEMP</th>\n",
       "      <th>PRES</th>\n",
       "      <th>DEWP</th>\n",
       "      <th>RAIN</th>\n",
       "      <th>WSPM</th>\n",
       "    </tr>\n",
       "  </thead>\n",
       "  <tbody>\n",
       "    <tr>\n",
       "      <th>count</th>\n",
       "      <td>420768.000000</td>\n",
       "      <td>420768.000000</td>\n",
       "      <td>420768.000000</td>\n",
       "      <td>420768.000000</td>\n",
       "      <td>420768.000000</td>\n",
       "      <td>412029.000000</td>\n",
       "      <td>414319.000000</td>\n",
       "      <td>411747.000000</td>\n",
       "      <td>408652.000000</td>\n",
       "      <td>400067.000000</td>\n",
       "      <td>407491.000000</td>\n",
       "      <td>420370.000000</td>\n",
       "      <td>420375.000000</td>\n",
       "      <td>420365.000000</td>\n",
       "      <td>420378.000000</td>\n",
       "      <td>420450.000000</td>\n",
       "    </tr>\n",
       "    <tr>\n",
       "      <th>mean</th>\n",
       "      <td>17532.500000</td>\n",
       "      <td>2014.662560</td>\n",
       "      <td>6.522930</td>\n",
       "      <td>15.729637</td>\n",
       "      <td>11.500000</td>\n",
       "      <td>79.793428</td>\n",
       "      <td>104.602618</td>\n",
       "      <td>15.830835</td>\n",
       "      <td>50.638586</td>\n",
       "      <td>1230.766454</td>\n",
       "      <td>57.372271</td>\n",
       "      <td>13.538976</td>\n",
       "      <td>1010.746982</td>\n",
       "      <td>2.490822</td>\n",
       "      <td>0.064476</td>\n",
       "      <td>1.729711</td>\n",
       "    </tr>\n",
       "    <tr>\n",
       "      <th>std</th>\n",
       "      <td>10122.116943</td>\n",
       "      <td>1.177198</td>\n",
       "      <td>3.448707</td>\n",
       "      <td>8.800102</td>\n",
       "      <td>6.922195</td>\n",
       "      <td>80.822391</td>\n",
       "      <td>91.772426</td>\n",
       "      <td>21.650603</td>\n",
       "      <td>35.127912</td>\n",
       "      <td>1160.182716</td>\n",
       "      <td>56.661607</td>\n",
       "      <td>11.436139</td>\n",
       "      <td>10.474055</td>\n",
       "      <td>13.793847</td>\n",
       "      <td>0.821004</td>\n",
       "      <td>1.246386</td>\n",
       "    </tr>\n",
       "    <tr>\n",
       "      <th>min</th>\n",
       "      <td>1.000000</td>\n",
       "      <td>2013.000000</td>\n",
       "      <td>1.000000</td>\n",
       "      <td>1.000000</td>\n",
       "      <td>0.000000</td>\n",
       "      <td>2.000000</td>\n",
       "      <td>2.000000</td>\n",
       "      <td>0.285600</td>\n",
       "      <td>1.026500</td>\n",
       "      <td>100.000000</td>\n",
       "      <td>0.214200</td>\n",
       "      <td>-19.900000</td>\n",
       "      <td>982.400000</td>\n",
       "      <td>-43.400000</td>\n",
       "      <td>0.000000</td>\n",
       "      <td>0.000000</td>\n",
       "    </tr>\n",
       "    <tr>\n",
       "      <th>25%</th>\n",
       "      <td>8766.750000</td>\n",
       "      <td>2014.000000</td>\n",
       "      <td>4.000000</td>\n",
       "      <td>8.000000</td>\n",
       "      <td>5.750000</td>\n",
       "      <td>20.000000</td>\n",
       "      <td>36.000000</td>\n",
       "      <td>3.000000</td>\n",
       "      <td>23.000000</td>\n",
       "      <td>500.000000</td>\n",
       "      <td>11.000000</td>\n",
       "      <td>3.100000</td>\n",
       "      <td>1002.300000</td>\n",
       "      <td>-8.900000</td>\n",
       "      <td>0.000000</td>\n",
       "      <td>0.900000</td>\n",
       "    </tr>\n",
       "    <tr>\n",
       "      <th>50%</th>\n",
       "      <td>17532.500000</td>\n",
       "      <td>2015.000000</td>\n",
       "      <td>7.000000</td>\n",
       "      <td>16.000000</td>\n",
       "      <td>11.500000</td>\n",
       "      <td>55.000000</td>\n",
       "      <td>82.000000</td>\n",
       "      <td>7.000000</td>\n",
       "      <td>43.000000</td>\n",
       "      <td>900.000000</td>\n",
       "      <td>45.000000</td>\n",
       "      <td>14.500000</td>\n",
       "      <td>1010.400000</td>\n",
       "      <td>3.100000</td>\n",
       "      <td>0.000000</td>\n",
       "      <td>1.400000</td>\n",
       "    </tr>\n",
       "    <tr>\n",
       "      <th>75%</th>\n",
       "      <td>26298.250000</td>\n",
       "      <td>2016.000000</td>\n",
       "      <td>10.000000</td>\n",
       "      <td>23.000000</td>\n",
       "      <td>17.250000</td>\n",
       "      <td>111.000000</td>\n",
       "      <td>145.000000</td>\n",
       "      <td>20.000000</td>\n",
       "      <td>71.000000</td>\n",
       "      <td>1500.000000</td>\n",
       "      <td>82.000000</td>\n",
       "      <td>23.300000</td>\n",
       "      <td>1019.000000</td>\n",
       "      <td>15.100000</td>\n",
       "      <td>0.000000</td>\n",
       "      <td>2.200000</td>\n",
       "    </tr>\n",
       "    <tr>\n",
       "      <th>max</th>\n",
       "      <td>35064.000000</td>\n",
       "      <td>2017.000000</td>\n",
       "      <td>12.000000</td>\n",
       "      <td>31.000000</td>\n",
       "      <td>23.000000</td>\n",
       "      <td>999.000000</td>\n",
       "      <td>999.000000</td>\n",
       "      <td>500.000000</td>\n",
       "      <td>290.000000</td>\n",
       "      <td>10000.000000</td>\n",
       "      <td>1071.000000</td>\n",
       "      <td>41.600000</td>\n",
       "      <td>1042.800000</td>\n",
       "      <td>29.100000</td>\n",
       "      <td>72.500000</td>\n",
       "      <td>13.200000</td>\n",
       "    </tr>\n",
       "  </tbody>\n",
       "</table>\n",
       "</div>"
      ],
      "text/plain": [
       "                  No           year          month            day  \\\n",
       "count  420768.000000  420768.000000  420768.000000  420768.000000   \n",
       "mean    17532.500000    2014.662560       6.522930      15.729637   \n",
       "std     10122.116943       1.177198       3.448707       8.800102   \n",
       "min         1.000000    2013.000000       1.000000       1.000000   \n",
       "25%      8766.750000    2014.000000       4.000000       8.000000   \n",
       "50%     17532.500000    2015.000000       7.000000      16.000000   \n",
       "75%     26298.250000    2016.000000      10.000000      23.000000   \n",
       "max     35064.000000    2017.000000      12.000000      31.000000   \n",
       "\n",
       "                hour          PM2.5           PM10            SO2  \\\n",
       "count  420768.000000  412029.000000  414319.000000  411747.000000   \n",
       "mean       11.500000      79.793428     104.602618      15.830835   \n",
       "std         6.922195      80.822391      91.772426      21.650603   \n",
       "min         0.000000       2.000000       2.000000       0.285600   \n",
       "25%         5.750000      20.000000      36.000000       3.000000   \n",
       "50%        11.500000      55.000000      82.000000       7.000000   \n",
       "75%        17.250000     111.000000     145.000000      20.000000   \n",
       "max        23.000000     999.000000     999.000000     500.000000   \n",
       "\n",
       "                 NO2             CO             O3           TEMP  \\\n",
       "count  408652.000000  400067.000000  407491.000000  420370.000000   \n",
       "mean       50.638586    1230.766454      57.372271      13.538976   \n",
       "std        35.127912    1160.182716      56.661607      11.436139   \n",
       "min         1.026500     100.000000       0.214200     -19.900000   \n",
       "25%        23.000000     500.000000      11.000000       3.100000   \n",
       "50%        43.000000     900.000000      45.000000      14.500000   \n",
       "75%        71.000000    1500.000000      82.000000      23.300000   \n",
       "max       290.000000   10000.000000    1071.000000      41.600000   \n",
       "\n",
       "                PRES           DEWP           RAIN           WSPM  \n",
       "count  420375.000000  420365.000000  420378.000000  420450.000000  \n",
       "mean     1010.746982       2.490822       0.064476       1.729711  \n",
       "std        10.474055      13.793847       0.821004       1.246386  \n",
       "min       982.400000     -43.400000       0.000000       0.000000  \n",
       "25%      1002.300000      -8.900000       0.000000       0.900000  \n",
       "50%      1010.400000       3.100000       0.000000       1.400000  \n",
       "75%      1019.000000      15.100000       0.000000       2.200000  \n",
       "max      1042.800000      29.100000      72.500000      13.200000  "
      ]
     },
     "execution_count": 916,
     "metadata": {},
     "output_type": "execute_result"
    }
   ],
   "source": [
    "pm.describe()"
   ]
  },
  {
   "cell_type": "markdown",
   "id": "a93260dc",
   "metadata": {},
   "source": [
    "### 2. Data Preprocessing  \n",
    "\n",
    "- Drop missing in target feature\n",
    "- Data cleaning: missingness, imputation, and checking duplicates\n",
    "- Visualize PM2.5 across time\n",
    "- Feature representation\n",
    "- Drop columns that are not useful('No', 'station')"
   ]
  },
  {
   "cell_type": "markdown",
   "id": "ba97a7f4",
   "metadata": {},
   "source": [
    "#### 2.1 Target (PM2.5) \n",
    "\n",
    "Missing in the target feature makes the observation meaningless. There are 8739 missing values in my target feature PM2.5. I will drop these observations. "
   ]
  },
  {
   "cell_type": "code",
   "execution_count": 917,
   "id": "86ef7af7",
   "metadata": {},
   "outputs": [],
   "source": [
    "pm= pm[pm['PM2.5'].notna()]"
   ]
  },
  {
   "cell_type": "code",
   "execution_count": 918,
   "id": "6544ef92",
   "metadata": {},
   "outputs": [
    {
     "data": {
      "text/plain": [
       "0"
      ]
     },
     "execution_count": 918,
     "metadata": {},
     "output_type": "execute_result"
    }
   ],
   "source": [
    "pm['PM2.5'].isnull().sum()"
   ]
  },
  {
   "cell_type": "code",
   "execution_count": 919,
   "id": "57c77e8d",
   "metadata": {},
   "outputs": [
    {
     "data": {
      "text/plain": [
       "(412029, 18)"
      ]
     },
     "execution_count": 919,
     "metadata": {},
     "output_type": "execute_result"
    }
   ],
   "source": [
    "pm.shape"
   ]
  },
  {
   "cell_type": "markdown",
   "id": "908229bf",
   "metadata": {},
   "source": [
    "#### 2.2 Imputing missing values \n",
    "\n",
    "- Numerical features with missingness: PM2.5, PM10, SO2, NO2, CO, O3, TEMP, PRES, DEWP, RAIN, WSPM   \n",
    "- Categorical features: wd, station  "
   ]
  },
  {
   "cell_type": "code",
   "execution_count": 920,
   "id": "2b1f59a1",
   "metadata": {},
   "outputs": [
    {
     "data": {
      "image/png": "[encoded data removed]",
      "text/plain": [
       "<Figure size 1080x720 with 12 Axes>"
      ]
     },
     "metadata": {
      "needs_background": "light"
     },
     "output_type": "display_data"
    }
   ],
   "source": [
    "num= ['PM10', 'SO2', 'NO2', 'CO', 'O3', 'TEMP', 'PRES', 'DEWP', 'RAIN', 'WSPM']\n",
    "num_feature= pm[num]\n",
    "#plot the distribution of numeric values \n",
    "fig, axs= plt.subplots(3,4, figsize=(15,10))\n",
    "ax= axs.ravel()\n",
    "for i in range(len(num)): \n",
    "    ax[i].hist(num_feature.iloc[:, i], bins=50, color= 'turquoise')\n",
    "    ax[i].set_title(num[i])"
   ]
  },
  {
   "cell_type": "markdown",
   "id": "f851774e",
   "metadata": {},
   "source": [
    "**It is the best to use mean for symmetrical distributions and use median for skewed distribution. Based on my distributions, I will impute TEMP and PRES with means and use medians for the other features.**"
   ]
  },
  {
   "cell_type": "markdown",
   "id": "d49ea3a7",
   "metadata": {},
   "source": [
    "Numeric feature imputation"
   ]
  },
  {
   "cell_type": "code",
   "execution_count": 921,
   "id": "98194076",
   "metadata": {},
   "outputs": [],
   "source": [
    "mean_imp= SimpleImputer(strategy=\"mean\")\n",
    "median_imp= SimpleImputer(strategy=\"median\")\n",
    "pm[['TEMP', 'PRES']]= mean_imp.fit_transform(pm[['TEMP', 'PRES']])\n",
    "pm[['PM10', 'SO2', 'NO2', 'CO', 'O3', 'DEWP', 'RAIN', 'WSPM']]= median_imp.fit_transform(pm[[ 'PM10', 'SO2', 'NO2', 'CO', 'O3', 'DEWP', 'RAIN', 'WSPM']]);"
   ]
  },
  {
   "cell_type": "markdown",
   "id": "036cb460",
   "metadata": {},
   "source": [
    "\"wd\" is the only categorical feature that needs imputation, I will impute with the most frequent value. "
   ]
  },
  {
   "cell_type": "code",
   "execution_count": 922,
   "id": "e4cd8fbb",
   "metadata": {},
   "outputs": [
    {
     "data": {
      "text/plain": [
       "NE     42592\n",
       "ENE    33539\n",
       "NW     31881\n",
       "N      30315\n",
       "E      29104\n",
       "SW     28142\n",
       "NNE    27748\n",
       "NNW    24786\n",
       "WNW    23816\n",
       "ESE    23705\n",
       "SSW    22063\n",
       "SE     19634\n",
       "WSW    19559\n",
       "S      18925\n",
       "SSE    17245\n",
       "W      17178\n",
       "Name: wd, dtype: int64"
      ]
     },
     "execution_count": 922,
     "metadata": {},
     "output_type": "execute_result"
    }
   ],
   "source": [
    "pm['wd'].value_counts()"
   ]
  },
  {
   "cell_type": "code",
   "execution_count": 923,
   "id": "adeab14a",
   "metadata": {},
   "outputs": [],
   "source": [
    "freq_imp= SimpleImputer(strategy=\"most_frequent\")\n",
    "pm[['wd']]= freq_imp.fit_transform(pm[['wd']])"
   ]
  },
  {
   "cell_type": "code",
   "execution_count": 924,
   "id": "6a3e1cca",
   "metadata": {
    "scrolled": true
   },
   "outputs": [
    {
     "data": {
      "text/plain": [
       "No         0\n",
       "year       0\n",
       "month      0\n",
       "day        0\n",
       "hour       0\n",
       "PM2.5      0\n",
       "PM10       0\n",
       "SO2        0\n",
       "NO2        0\n",
       "CO         0\n",
       "O3         0\n",
       "TEMP       0\n",
       "PRES       0\n",
       "DEWP       0\n",
       "RAIN       0\n",
       "wd         0\n",
       "WSPM       0\n",
       "station    0\n",
       "dtype: int64"
      ]
     },
     "execution_count": 924,
     "metadata": {},
     "output_type": "execute_result"
    }
   ],
   "source": [
    "pm.isnull().sum()"
   ]
  },
  {
   "cell_type": "markdown",
   "id": "7627a677",
   "metadata": {},
   "source": [
    "Check for duplicates: no duplicated rows"
   ]
  },
  {
   "cell_type": "code",
   "execution_count": 925,
   "id": "75e024e1",
   "metadata": {},
   "outputs": [
    {
     "data": {
      "text/plain": [
       "0"
      ]
     },
     "execution_count": 925,
     "metadata": {},
     "output_type": "execute_result"
    }
   ],
   "source": [
    "# drop \"No\" as it will not be useful\n",
    "pm.duplicated().sum()"
   ]
  },
  {
   "cell_type": "markdown",
   "id": "ccd8e088",
   "metadata": {},
   "source": [
    "#### 2.3 Shrink data (for limited computer power)\n",
    "\n",
    "Given the large sample size of the data and my computer power, I was not able to perform many model training techniques. For instance, I performed GridSearchCV and RandomSearchCV with 3-folds cross-validation and a few combinations of parameters; I was not able to run it within a reasonable time. So, **I decide to add this step in data preprocessing to randomly select a subset of the full dataset**, although this might not be the best solution in practice. "
   ]
  },
  {
   "cell_type": "code",
   "execution_count": 926,
   "id": "c210d6a2",
   "metadata": {
    "scrolled": true
   },
   "outputs": [
    {
     "data": {
      "image/png": "[encoded data removed]",
      "text/plain": [
       "<Figure size 432x288 with 1 Axes>"
      ]
     },
     "metadata": {
      "needs_background": "light"
     },
     "output_type": "display_data"
    }
   ],
   "source": [
    "# PM2.5 distribution before subsetting\n",
    "plt.hist(pm['PM2.5'],100)\n",
    "plt.title(\"Distribution of PM2.5\");"
   ]
  },
  {
   "cell_type": "code",
   "execution_count": 927,
   "id": "b473a923",
   "metadata": {},
   "outputs": [
    {
     "data": {
      "text/plain": [
       "(412029, 18)"
      ]
     },
     "execution_count": 927,
     "metadata": {},
     "output_type": "execute_result"
    }
   ],
   "source": [
    "pm.shape"
   ]
  },
  {
   "cell_type": "code",
   "execution_count": 928,
   "id": "cea40bc3",
   "metadata": {},
   "outputs": [],
   "source": [
    "pm= pm.sample(frac=0.05, random_state=42)"
   ]
  },
  {
   "cell_type": "code",
   "execution_count": 929,
   "id": "02c3bfbf",
   "metadata": {
    "scrolled": true
   },
   "outputs": [
    {
     "data": {
      "text/plain": [
       "Text(0.5, 1.0, 'Distribution of PM2.5 (5% of the original data)')"
      ]
     },
     "execution_count": 929,
     "metadata": {},
     "output_type": "execute_result"
    },
    {
     "data": {
      "image/png": "[encoded data removed]",
      "text/plain": [
       "<Figure size 432x288 with 1 Axes>"
      ]
     },
     "metadata": {
      "needs_background": "light"
     },
     "output_type": "display_data"
    }
   ],
   "source": [
    "# PM2.5 distribution after subsetting\n",
    "plt.hist(pm['PM2.5'],100, color='green')\n",
    "plt.title(\"Distribution of PM2.5 (5% of the original data)\")"
   ]
  },
  {
   "cell_type": "code",
   "execution_count": 930,
   "id": "48294ae8",
   "metadata": {
    "scrolled": false
   },
   "outputs": [
    {
     "data": {
      "text/plain": [
       "(20601, 18)"
      ]
     },
     "execution_count": 930,
     "metadata": {},
     "output_type": "execute_result"
    }
   ],
   "source": [
    "#save a copy of orginal prepared dataset for later use\n",
    "original_df= pm\n",
    "pm.shape"
   ]
  },
  {
   "cell_type": "markdown",
   "id": "93bb9693",
   "metadata": {},
   "source": [
    "The distributions of the target feature PM2.5 look similar, suggesting random subsetting of the dataset in terms of the target feature. "
   ]
  },
  {
   "cell_type": "markdown",
   "id": "c8ff66a7",
   "metadata": {},
   "source": [
    "#### 2.3 Visualizing PM2.5 across time and location"
   ]
  },
  {
   "cell_type": "markdown",
   "id": "37179aad",
   "metadata": {},
   "source": [
    "#### PM 2.5 by 12 monitoring sites"
   ]
  },
  {
   "cell_type": "code",
   "execution_count": 931,
   "id": "d02662a7",
   "metadata": {},
   "outputs": [
    {
     "data": {
      "text/plain": [
       "Guanyuan         1809\n",
       "Dingling         1789\n",
       "Tiantan          1740\n",
       "Wanliu           1720\n",
       "Shunyi           1719\n",
       "Nongzhanguan     1709\n",
       "Gucheng          1704\n",
       "Dongsi           1699\n",
       "Changping        1696\n",
       "Wanshouxigong    1679\n",
       "Aotizhongxin     1669\n",
       "Huairou          1668\n",
       "Name: station, dtype: int64"
      ]
     },
     "execution_count": 931,
     "metadata": {},
     "output_type": "execute_result"
    }
   ],
   "source": [
    "pm['station'].value_counts()"
   ]
  },
  {
   "cell_type": "code",
   "execution_count": 932,
   "id": "f2241198",
   "metadata": {},
   "outputs": [
    {
     "data": {
      "image/png": "[encoded data removed]",
      "text/plain": [
       "<Figure size 1080x720 with 12 Axes>"
      ]
     },
     "metadata": {
      "needs_background": "light"
     },
     "output_type": "display_data"
    }
   ],
   "source": [
    "site_names= list(pm['station'].unique())\n",
    "fig, axs= plt.subplots(3,4, figsize=(15,10))\n",
    "ax= axs.ravel()\n",
    "for i in range(len(site_names)):\n",
    "    ax[i].hist(pm[pm['station']== site_names[i]]['PM2.5'], bins=100, color='orange')\n",
    "    ax[i].set_title(site_names[i])\n",
    "    ax[i].set_ylim(0,400)\n",
    "    ax[i].set_xlim(0,600)\n",
    "plt.tight_layout()"
   ]
  },
  {
   "cell_type": "markdown",
   "id": "b6827206",
   "metadata": {},
   "source": [
    "There are variation across sites. Some sites have longer and bigger tails (e.g., Dongsi), indicating more observations with high PM2.5. But the variation looks minimal from the visulization above. "
   ]
  },
  {
   "cell_type": "markdown",
   "id": "e67d8fba",
   "metadata": {},
   "source": [
    "#### Yearly means and medians PM 2.5 from 2013-2017"
   ]
  },
  {
   "cell_type": "markdown",
   "id": "af89b19c",
   "metadata": {},
   "source": [
    "It looks like the year 2017 had a lot fewer observations "
   ]
  },
  {
   "cell_type": "code",
   "execution_count": 933,
   "id": "329b956e",
   "metadata": {
    "scrolled": true
   },
   "outputs": [
    {
     "data": {
      "text/plain": [
       "2016    5225\n",
       "2014    5118\n",
       "2015    5039\n",
       "2013    4363\n",
       "2017     856\n",
       "Name: year, dtype: int64"
      ]
     },
     "execution_count": 933,
     "metadata": {},
     "output_type": "execute_result"
    }
   ],
   "source": [
    "pm['year'].value_counts()"
   ]
  },
  {
   "cell_type": "markdown",
   "id": "98896d62",
   "metadata": {},
   "source": [
    "Getting yearly means and medians of PM2.5"
   ]
  },
  {
   "cell_type": "code",
   "execution_count": 934,
   "id": "21d9fd6c",
   "metadata": {
    "scrolled": true
   },
   "outputs": [
    {
     "data": {
      "text/html": [
       "<div>\n",
       "<style scoped>\n",
       "    .dataframe tbody tr th:only-of-type {\n",
       "        vertical-align: middle;\n",
       "    }\n",
       "\n",
       "    .dataframe tbody tr th {\n",
       "        vertical-align: top;\n",
       "    }\n",
       "\n",
       "    .dataframe thead th {\n",
       "        text-align: right;\n",
       "    }\n",
       "</style>\n",
       "<table border=\"1\" class=\"dataframe\">\n",
       "  <thead>\n",
       "    <tr style=\"text-align: right;\">\n",
       "      <th></th>\n",
       "      <th>year</th>\n",
       "      <th>mean</th>\n",
       "      <th>median</th>\n",
       "    </tr>\n",
       "  </thead>\n",
       "  <tbody>\n",
       "    <tr>\n",
       "      <th>4</th>\n",
       "      <td>2013</td>\n",
       "      <td>78.524295</td>\n",
       "      <td>58.0</td>\n",
       "    </tr>\n",
       "    <tr>\n",
       "      <th>0</th>\n",
       "      <td>2014</td>\n",
       "      <td>84.302501</td>\n",
       "      <td>62.0</td>\n",
       "    </tr>\n",
       "    <tr>\n",
       "      <th>1</th>\n",
       "      <td>2015</td>\n",
       "      <td>79.707283</td>\n",
       "      <td>51.0</td>\n",
       "    </tr>\n",
       "    <tr>\n",
       "      <th>3</th>\n",
       "      <td>2016</td>\n",
       "      <td>71.200191</td>\n",
       "      <td>47.0</td>\n",
       "    </tr>\n",
       "    <tr>\n",
       "      <th>2</th>\n",
       "      <td>2017</td>\n",
       "      <td>90.762850</td>\n",
       "      <td>42.5</td>\n",
       "    </tr>\n",
       "  </tbody>\n",
       "</table>\n",
       "</div>"
      ],
      "text/plain": [
       "   year       mean  median\n",
       "4  2013  78.524295    58.0\n",
       "0  2014  84.302501    62.0\n",
       "1  2015  79.707283    51.0\n",
       "3  2016  71.200191    47.0\n",
       "2  2017  90.762850    42.5"
      ]
     },
     "execution_count": 934,
     "metadata": {},
     "output_type": "execute_result"
    }
   ],
   "source": [
    "yearls= list(pm['year'].unique())\n",
    "pm_mean=[]\n",
    "pm_median=[]\n",
    "for i in yearls: \n",
    "    pm_mean.append(pm[pm['year']== i]['PM2.5'].mean(axis=0))\n",
    "    pm_median.append(pm[pm['year']== i]['PM2.5'].median(axis=0))\n",
    "df= pd.DataFrame({'year':yearls, 'mean':pm_mean, 'median': pm_median})\n",
    "df=df.sort_values(by='year')\n",
    "df"
   ]
  },
  {
   "cell_type": "markdown",
   "id": "ba7d744b",
   "metadata": {},
   "source": [
    "Distribution of PM2.5 by year from 2013-2017. The increase in mean of 2017 was driven by a larger proportions of measurements in the higher range and much less total number of observations compared to other years. The median shows that the the level of PM2.5 in 2017 is lower than other years. But this might related to the fact that there were much fewer observations for 2017 in the original data.  "
   ]
  },
  {
   "cell_type": "code",
   "execution_count": 935,
   "id": "d7f38d94",
   "metadata": {
    "scrolled": true
   },
   "outputs": [
    {
     "data": {
      "image/png": "[encoded data removed]",
      "text/plain": [
       "<Figure size 1080x360 with 1 Axes>"
      ]
     },
     "metadata": {
      "needs_background": "light"
     },
     "output_type": "display_data"
    }
   ],
   "source": [
    "fig, ax = plt.subplots(figsize=(15,5))\n",
    "plt.plot(df['year'], df['mean'], marker='o', label= 'mean')\n",
    "plt.plot(df['year'], df['median'], marker='o', color= 'red', label= 'median')\n",
    "plt.title(\"Yearly mean pm2.5 from 2013- 2017\")\n",
    "plt.xticks(df['year'])\n",
    "plt.grid(True)\n",
    "ax.set_xlabel('Year')\n",
    "ax.set_ylabel('PM2.5')\n",
    "plt.legend(loc=\"upper left\", fontsize=\"small\");"
   ]
  },
  {
   "cell_type": "code",
   "execution_count": 936,
   "id": "68209e07",
   "metadata": {
    "scrolled": false
   },
   "outputs": [
    {
     "data": {
      "image/png": "[encoded data removed]",
      "text/plain": [
       "<Figure size 1080x576 with 6 Axes>"
      ]
     },
     "metadata": {
      "needs_background": "light"
     },
     "output_type": "display_data"
    }
   ],
   "source": [
    "fig, axs= plt.subplots(2,3, figsize=(15,8))\n",
    "ax= axs.ravel()\n",
    "for i in range(len(yearls)):\n",
    "    ax[i].hist(pm[pm['year']== yearls[i]]['PM2.5'], bins=100, color='purple', alpha=.5)\n",
    "    ax[i].set_title(yearls[i])\n",
    "    ax[i].set_ylim(0,800)\n",
    "    ax[i].set_xlim(0,500)\n",
    "plt.tight_layout()"
   ]
  },
  {
   "cell_type": "markdown",
   "id": "0b099a27",
   "metadata": {},
   "source": [
    "#### Monthly means and medians of PM2.5 from 2013- 2017"
   ]
  },
  {
   "cell_type": "code",
   "execution_count": 937,
   "id": "3c27d969",
   "metadata": {},
   "outputs": [
    {
     "data": {
      "text/plain": [
       "[1, 7, 12, 6, 11, 4, 3, 9, 8, 10, 5, 2]"
      ]
     },
     "execution_count": 937,
     "metadata": {},
     "output_type": "execute_result"
    }
   ],
   "source": [
    "monthls= list(pm['month'].unique())\n",
    "monthls"
   ]
  },
  {
   "cell_type": "code",
   "execution_count": 938,
   "id": "2aaf6aa2",
   "metadata": {},
   "outputs": [
    {
     "data": {
      "text/html": [
       "<div>\n",
       "<style scoped>\n",
       "    .dataframe tbody tr th:only-of-type {\n",
       "        vertical-align: middle;\n",
       "    }\n",
       "\n",
       "    .dataframe tbody tr th {\n",
       "        vertical-align: top;\n",
       "    }\n",
       "\n",
       "    .dataframe thead th {\n",
       "        text-align: right;\n",
       "    }\n",
       "</style>\n",
       "<table border=\"1\" class=\"dataframe\">\n",
       "  <thead>\n",
       "    <tr style=\"text-align: right;\">\n",
       "      <th></th>\n",
       "      <th>month</th>\n",
       "      <th>mean</th>\n",
       "      <th>median</th>\n",
       "    </tr>\n",
       "  </thead>\n",
       "  <tbody>\n",
       "    <tr>\n",
       "      <th>0</th>\n",
       "      <td>1</td>\n",
       "      <td>96.147165</td>\n",
       "      <td>66.0</td>\n",
       "    </tr>\n",
       "    <tr>\n",
       "      <th>11</th>\n",
       "      <td>2</td>\n",
       "      <td>82.331920</td>\n",
       "      <td>38.0</td>\n",
       "    </tr>\n",
       "    <tr>\n",
       "      <th>6</th>\n",
       "      <td>3</td>\n",
       "      <td>93.447412</td>\n",
       "      <td>72.0</td>\n",
       "    </tr>\n",
       "    <tr>\n",
       "      <th>5</th>\n",
       "      <td>4</td>\n",
       "      <td>71.953446</td>\n",
       "      <td>59.0</td>\n",
       "    </tr>\n",
       "    <tr>\n",
       "      <th>10</th>\n",
       "      <td>5</td>\n",
       "      <td>63.395630</td>\n",
       "      <td>50.0</td>\n",
       "    </tr>\n",
       "    <tr>\n",
       "      <th>3</th>\n",
       "      <td>6</td>\n",
       "      <td>68.728487</td>\n",
       "      <td>52.0</td>\n",
       "    </tr>\n",
       "    <tr>\n",
       "      <th>1</th>\n",
       "      <td>7</td>\n",
       "      <td>71.156831</td>\n",
       "      <td>59.0</td>\n",
       "    </tr>\n",
       "    <tr>\n",
       "      <th>8</th>\n",
       "      <td>8</td>\n",
       "      <td>52.464326</td>\n",
       "      <td>39.0</td>\n",
       "    </tr>\n",
       "    <tr>\n",
       "      <th>7</th>\n",
       "      <td>9</td>\n",
       "      <td>60.794100</td>\n",
       "      <td>44.0</td>\n",
       "    </tr>\n",
       "    <tr>\n",
       "      <th>9</th>\n",
       "      <td>10</td>\n",
       "      <td>91.587734</td>\n",
       "      <td>58.0</td>\n",
       "    </tr>\n",
       "    <tr>\n",
       "      <th>4</th>\n",
       "      <td>11</td>\n",
       "      <td>90.247410</td>\n",
       "      <td>61.0</td>\n",
       "    </tr>\n",
       "    <tr>\n",
       "      <th>2</th>\n",
       "      <td>12</td>\n",
       "      <td>104.290613</td>\n",
       "      <td>62.0</td>\n",
       "    </tr>\n",
       "  </tbody>\n",
       "</table>\n",
       "</div>"
      ],
      "text/plain": [
       "    month        mean  median\n",
       "0       1   96.147165    66.0\n",
       "11      2   82.331920    38.0\n",
       "6       3   93.447412    72.0\n",
       "5       4   71.953446    59.0\n",
       "10      5   63.395630    50.0\n",
       "3       6   68.728487    52.0\n",
       "1       7   71.156831    59.0\n",
       "8       8   52.464326    39.0\n",
       "7       9   60.794100    44.0\n",
       "9      10   91.587734    58.0\n",
       "4      11   90.247410    61.0\n",
       "2      12  104.290613    62.0"
      ]
     },
     "execution_count": 938,
     "metadata": {},
     "output_type": "execute_result"
    }
   ],
   "source": [
    "pm_mean=[]\n",
    "pm_median=[]\n",
    "for i in monthls: \n",
    "    pm_mean.append(pm[pm['month']== i]['PM2.5'].mean(axis=0))\n",
    "    pm_median.append(pm[pm['month']== i]['PM2.5'].median(axis=0))\n",
    "df= pd.DataFrame({'month':monthls, 'mean':pm_mean, 'median': pm_median})\n",
    "df= df.sort_values(by='month')\n",
    "df"
   ]
  },
  {
   "cell_type": "code",
   "execution_count": 939,
   "id": "1adc04ee",
   "metadata": {},
   "outputs": [
    {
     "data": {
      "image/png": "[encoded data removed]",
      "text/plain": [
       "<Figure size 1080x360 with 1 Axes>"
      ]
     },
     "metadata": {
      "needs_background": "light"
     },
     "output_type": "display_data"
    }
   ],
   "source": [
    "fig, ax = plt.subplots(figsize=(15,5))\n",
    "plt.plot(df['month'], df['mean'], marker='o', label= 'mean', color= 'orange')\n",
    "plt.plot(df['month'], df['median'], marker='o', color= 'purple', label= 'median')\n",
    "plt.title(\"Monthly mean and median of pm2.5 from 2013- 2017\")\n",
    "plt.xticks(df['month'])\n",
    "plt.grid(True)\n",
    "ax.set_xlabel('Month')\n",
    "ax.set_ylabel('PM2.5')\n",
    "plt.legend(loc=\"upper left\", fontsize=\"small\");"
   ]
  },
  {
   "cell_type": "markdown",
   "id": "d443cbbd",
   "metadata": {},
   "source": [
    "It seems the warmer month in Beijing had relatively lower PM2.5"
   ]
  },
  {
   "cell_type": "markdown",
   "id": "ea92f93b",
   "metadata": {},
   "source": [
    "#### Means and Medians of PM 2.5 by day of a month"
   ]
  },
  {
   "cell_type": "code",
   "execution_count": 940,
   "id": "22107b7e",
   "metadata": {},
   "outputs": [],
   "source": [
    "dayls= list(pm['day'].unique())\n",
    "pm_mean=[]\n",
    "pm_median=[]\n",
    "for i in dayls: \n",
    "    pm_mean.append(pm[pm['day']== i]['PM2.5'].mean(axis=0))\n",
    "    pm_median.append(pm[pm['day']== i]['PM2.5'].median(axis=0))\n",
    "df= pd.DataFrame({'day':dayls, 'mean':pm_mean, 'median': pm_median})\n",
    "df= df.sort_values(by='day')"
   ]
  },
  {
   "cell_type": "code",
   "execution_count": 941,
   "id": "73c3e947",
   "metadata": {
    "scrolled": true
   },
   "outputs": [
    {
     "data": {
      "image/png": "[encoded data removed]",
      "text/plain": [
       "<Figure size 1080x360 with 1 Axes>"
      ]
     },
     "metadata": {
      "needs_background": "light"
     },
     "output_type": "display_data"
    }
   ],
   "source": [
    "fig, ax = plt.subplots(figsize=(15,5))\n",
    "plt.plot(df['day'], df['mean'], marker='o', label= 'mean', color= 'pink')\n",
    "plt.plot(df['day'], df['median'], marker='o', color= 'green', label= 'median')\n",
    "plt.title(\"mean and median of pm2.5 from 2013- 2017 by day of month\")\n",
    "plt.xticks(df['day'])\n",
    "plt.grid(True)\n",
    "ax.set_xlabel('Day of month')\n",
    "ax.set_ylabel('PM2.5')\n",
    "plt.legend(loc=\"upper left\", fontsize=\"small\");"
   ]
  },
  {
   "cell_type": "markdown",
   "id": "7c8b48a4",
   "metadata": {},
   "source": [
    "**Hourly mean variation of PM2.5**"
   ]
  },
  {
   "cell_type": "code",
   "execution_count": 942,
   "id": "409e1c86",
   "metadata": {},
   "outputs": [],
   "source": [
    "hrls= list(pm['hour'].unique())\n",
    "pm_mean=[]\n",
    "pm_median=[]\n",
    "for i in hrls: \n",
    "    pm_mean.append(pm[pm['hour']== i]['PM2.5'].mean(axis=0))\n",
    "    pm_median.append(pm[pm['hour']== i]['PM2.5'].median(axis=0))\n",
    "df= pd.DataFrame({'hour':hrls, 'mean':pm_mean, 'median': pm_median})\n",
    "df= df.sort_values(by='hour')"
   ]
  },
  {
   "cell_type": "code",
   "execution_count": 943,
   "id": "96ef97ad",
   "metadata": {},
   "outputs": [
    {
     "data": {
      "image/png": "[encoded data removed]",
      "text/plain": [
       "<Figure size 1080x360 with 1 Axes>"
      ]
     },
     "metadata": {
      "needs_background": "light"
     },
     "output_type": "display_data"
    }
   ],
   "source": [
    "fig, ax = plt.subplots(figsize=(15,5))\n",
    "plt.plot(df['hour'], df['mean'], marker='o', label= 'mean', color= 'gold')\n",
    "plt.plot(df['hour'], df['median'], marker='o', color= 'deeppink', label= 'median')\n",
    "plt.title(\"mean and median of pm2.5 by hour of days\")\n",
    "plt.xticks(df['hour'])\n",
    "plt.grid(True)\n",
    "ax.set_xlabel('Hour of day')\n",
    "ax.set_ylabel('PM2.5')\n",
    "plt.legend(loc=\"upper left\", fontsize=\"small\");"
   ]
  },
  {
   "cell_type": "markdown",
   "id": "2f33058f",
   "metadata": {},
   "source": [
    "To summarize, PM 2.5 seems to vary by time:  \n",
    "- The general trend of PM2.5 from 2.13-17 is descreading, but this has to take into consideration of the fact that there were a lot fewer observations in the year 2017. \n",
    "- Within a year, PM2.5 level is averagely higher among the winter months (November- March) compared to the rest of the year. \n",
    "- Within a month, there are lower average levels of PM 2.5 clustered around the 9th to the 13th days of the month.\n",
    "- Within a day, PM2.5 is starting from evening to midnight. (8pm to 3am the next day) \n",
    "\n",
    "These univariate relationship between time and PM2.5 have important implications for me in terms of how to include these features in my analysis. \n",
    "\n",
    "- Month, day, hour: **The lack of linearity** of these features and PM2.5 suggests that it is better to one-hot code them instead of treat them as a numeric value. But one-hot coding all these time features would lead to a large number of features that are not that informative for interpretation and not useful for making prediction. So, I will convert these features into **categoris** such as winter, spring, summer, winter, morning, evening, etc (see more in 2.6 feature representation). \n",
    "- Year: Given that the median of PM2.5 decrease over the year somewhat linearily and it is more useful to include year as a **numeric** feature for interpretation and prediction purposes. For example, it makes sense to look at year and say one year increase in time in the future would lead to certain change in PM2.5. This would not be true if treating year as some binary features (e.g., 2017 vs. not 2017)."
   ]
  },
  {
   "cell_type": "markdown",
   "id": "7c2de2fa",
   "metadata": {},
   "source": [
    "#### 2.4 Correlation matrix of all features\n",
    "\n",
    "The correlation matrix shows that TEMP, PRES, and DEWP are highly correlated with each other (which makes sense). This would cause multicollinearity issues if I fit them all in, for example, a linear regression model. So, I may consider to only keep TEMP. "
   ]
  },
  {
   "cell_type": "code",
   "execution_count": 944,
   "id": "82c77830",
   "metadata": {
    "scrolled": true
   },
   "outputs": [
    {
     "data": {
      "text/plain": [
       "<AxesSubplot:>"
      ]
     },
     "execution_count": 944,
     "metadata": {},
     "output_type": "execute_result"
    },
    {
     "data": {
      "image/png": "[encoded data removed]",
      "text/plain": [
       "<Figure size 360x360 with 2 Axes>"
      ]
     },
     "metadata": {
      "needs_background": "light"
     },
     "output_type": "display_data"
    }
   ],
   "source": [
    "predictors= pm[pm.columns.drop('PM2.5')]\n",
    "ax=plt.subplots(figsize=(5,5))\n",
    "corr= predictors.corr()\n",
    "sns.heatmap(corr, cmap=sns.cm.rocket_r)"
   ]
  },
  {
   "cell_type": "code",
   "execution_count": 945,
   "id": "8fc251b3",
   "metadata": {},
   "outputs": [],
   "source": [
    "def rank_corr_pair (df, n):\n",
    "    corr= df.corr().abs().unstack()\n",
    "    corr= corr.sort_values(ascending=False)\n",
    "    return corr[0: n]"
   ]
  },
  {
   "cell_type": "code",
   "execution_count": 946,
   "id": "93da1264",
   "metadata": {},
   "outputs": [
    {
     "data": {
      "text/plain": [
       "No     No       1.000000\n",
       "year   year     1.000000\n",
       "RAIN   RAIN     1.000000\n",
       "DEWP   DEWP     1.000000\n",
       "PRES   PRES     1.000000\n",
       "TEMP   TEMP     1.000000\n",
       "O3     O3       1.000000\n",
       "CO     CO       1.000000\n",
       "SO2    SO2      1.000000\n",
       "PM10   PM10     1.000000\n",
       "hour   hour     1.000000\n",
       "day    day      1.000000\n",
       "month  month    1.000000\n",
       "NO2    NO2      1.000000\n",
       "WSPM   WSPM     1.000000\n",
       "No     year     0.970027\n",
       "year   No       0.970027\n",
       "DEWP   TEMP     0.820336\n",
       "TEMP   DEWP     0.820336\n",
       "PRES   TEMP     0.813486\n",
       "TEMP   PRES     0.813486\n",
       "DEWP   PRES     0.751368\n",
       "dtype: float64"
      ]
     },
     "execution_count": 946,
     "metadata": {},
     "output_type": "execute_result"
    }
   ],
   "source": [
    "rank_corr_pair(predictors, 22)"
   ]
  },
  {
   "cell_type": "markdown",
   "id": "b716ed56",
   "metadata": {},
   "source": [
    "#### 2.5 Dropping features that aren't useful\n",
    "\n",
    "Feature 'No' is the number of observation and is not useful here. I also drop the station feature as I would like to increase the generalizability of my final model to other geographical location other than Beijing."
   ]
  },
  {
   "cell_type": "code",
   "execution_count": 947,
   "id": "118630aa",
   "metadata": {},
   "outputs": [],
   "source": [
    "drop=['No', 'station']\n",
    "pm= pm[pm.columns.drop(drop)]"
   ]
  },
  {
   "cell_type": "code",
   "execution_count": 948,
   "id": "6a949756",
   "metadata": {},
   "outputs": [
    {
     "data": {
      "text/plain": [
       "Index(['year', 'month', 'day', 'hour', 'PM2.5', 'PM10', 'SO2', 'NO2', 'CO',\n",
       "       'O3', 'TEMP', 'PRES', 'DEWP', 'RAIN', 'wd', 'WSPM'],\n",
       "      dtype='object')"
      ]
     },
     "execution_count": 948,
     "metadata": {},
     "output_type": "execute_result"
    }
   ],
   "source": [
    "pm.columns"
   ]
  },
  {
   "cell_type": "markdown",
   "id": "ef4a50c7",
   "metadata": {},
   "source": [
    "#### 2.6 Feature representation \n",
    "\n",
    "- One-hot encoding for the two categorical features (station, wd)\n",
    "- Date variables: Based on certain patterns by time we have seen above, I will categorize date variables and apply one-hot coding on them\n",
    "- Standardization for numeric features. (this is not needed for tree-based methods) "
   ]
  },
  {
   "cell_type": "markdown",
   "id": "1e0f531c",
   "metadata": {},
   "source": [
    "**Categorizing date variables**"
   ]
  },
  {
   "cell_type": "markdown",
   "id": "cd375046",
   "metadata": {},
   "source": [
    "Month: winter: 12-2; spring: 3-5; summer: 6-8; fall: 9-11"
   ]
  },
  {
   "cell_type": "code",
   "execution_count": 949,
   "id": "ed179855",
   "metadata": {},
   "outputs": [],
   "source": [
    "def m(x):\n",
    "    if x in [12,1,2]:\n",
    "        return 'winter'\n",
    "    elif x in [3,4,5]:\n",
    "        return 'spring'\n",
    "    elif x in [6,7,8]:\n",
    "        return 'summer'\n",
    "    else: \n",
    "        return 'fall'\n",
    "pm['month_season']= pm['month'].apply(m)"
   ]
  },
  {
   "cell_type": "markdown",
   "id": "7c0c528d",
   "metadata": {},
   "source": [
    "Day: 1-10; 10-20; 20-30+"
   ]
  },
  {
   "cell_type": "code",
   "execution_count": 950,
   "id": "52e3c68f",
   "metadata": {},
   "outputs": [],
   "source": [
    "def d(x):\n",
    "    if 1<=x<=10:\n",
    "        return 'early_mon'\n",
    "    elif 11<=x<=20:\n",
    "        return 'mid_mon'\n",
    "    else:\n",
    "        return 'late_mon'\n",
    "pm['day_cat']= pm['day'].apply(d)"
   ]
  },
  {
   "cell_type": "markdown",
   "id": "5f117243",
   "metadata": {},
   "source": [
    "Hour: morning: 6-12; afternoon: 12-18; night: 18-24; 1-6:midnight "
   ]
  },
  {
   "cell_type": "code",
   "execution_count": 951,
   "id": "ebecb95d",
   "metadata": {},
   "outputs": [],
   "source": [
    "def h(x):\n",
    "    if x in [7,8,9,10,11,12]:\n",
    "        return 'morning'\n",
    "    elif x in [13,14,15,16,17,18]:\n",
    "        return 'afternoon'\n",
    "    elif x in [19,20,21,22,23,24]:\n",
    "        return 'night'\n",
    "    else: \n",
    "        return 'midnight'\n",
    "pm['hour_cat']= pm['hour'].apply(h)"
   ]
  },
  {
   "cell_type": "markdown",
   "id": "04cf8a48",
   "metadata": {},
   "source": [
    "**One-hot encoding**"
   ]
  },
  {
   "cell_type": "markdown",
   "id": "072f4c24",
   "metadata": {},
   "source": [
    "There are 6 features that should be treated as categrical as listed below. I create ***2 versions*** of dummy variables. For  regression models, I need to drop a category of each categorical feature as a reference category, so that the coefficients correctly represents the associated increase or descrease in PM 2.5 compared to the reference category. Another version of dummy varibles does not drop categories as such, so that I can apply to tree-based methods. "
   ]
  },
  {
   "cell_type": "code",
   "execution_count": 952,
   "id": "d84f3db7",
   "metadata": {},
   "outputs": [
    {
     "name": "stdout",
     "output_type": "stream",
     "text": [
      "- wd: ['SW' 'E' 'NW' 'WNW' 'NE' 'WSW' 'N' 'ESE' 'NNW' 'W' 'SSW' 'NNE' 'ENE' 'S'\n",
      " 'SSE' 'SE']\n",
      "- hour: ['afternoon' 'morning' 'midnight' 'night']\n",
      "- day: ['early_mon' 'late_mon' 'mid_mon']\n",
      "- month: ['winter' 'summer' 'fall' 'spring']\n"
     ]
    }
   ],
   "source": [
    "print('- wd:', pm['wd'].unique())\n",
    "print('- hour:', pm['hour_cat'].unique())\n",
    "print('- day:', pm['day_cat'].unique())\n",
    "print('- month:', pm['month_season'].unique())"
   ]
  },
  {
   "cell_type": "code",
   "execution_count": 953,
   "id": "bf09a497",
   "metadata": {},
   "outputs": [],
   "source": [
    "#drop original date features in full dataset\n",
    "ori_date= ['hour','day','month']\n",
    "pm= pm[pm.columns.drop(ori_date)]\n",
    "#categorical features that need to be one-hot coded \n",
    "cat_vars= pm[['wd', 'day_cat', 'month_season','hour_cat']]"
   ]
  },
  {
   "cell_type": "markdown",
   "id": "cd0395b6",
   "metadata": {},
   "source": [
    "version 1: the first level of each variable was dropped"
   ]
  },
  {
   "cell_type": "code",
   "execution_count": 954,
   "id": "6389daae",
   "metadata": {
    "scrolled": true
   },
   "outputs": [],
   "source": [
    "ohe1= OneHotEncoder(drop='first')\n",
    "ohe1.fit(cat_vars)\n",
    "cat_ohe1= ohe1.transform(cat_vars).toarray()\n",
    "cat_ohe1= pd.DataFrame(cat_ohe1, columns= ohe1.get_feature_names(cat_vars.columns), index= pm.index)"
   ]
  },
  {
   "cell_type": "markdown",
   "id": "6f01afed",
   "metadata": {},
   "source": [
    "version 2: keep all categories "
   ]
  },
  {
   "cell_type": "code",
   "execution_count": 955,
   "id": "4abe772e",
   "metadata": {},
   "outputs": [],
   "source": [
    "ohe2= OneHotEncoder()\n",
    "ohe2.fit(cat_vars)\n",
    "cat_ohe2= ohe2.transform(cat_vars).toarray()\n",
    "cat_ohe2= pd.DataFrame(cat_ohe2, columns= ohe2.get_feature_names(cat_vars.columns), index= pm.index)"
   ]
  },
  {
   "cell_type": "code",
   "execution_count": 956,
   "id": "89dbbe62",
   "metadata": {},
   "outputs": [
    {
     "data": {
      "text/plain": [
       "((20601, 23), (20601, 27))"
      ]
     },
     "execution_count": 956,
     "metadata": {},
     "output_type": "execute_result"
    }
   ],
   "source": [
    "cat_ohe1.shape, cat_ohe2.shape"
   ]
  },
  {
   "cell_type": "code",
   "execution_count": 957,
   "id": "6aa20808",
   "metadata": {},
   "outputs": [],
   "source": [
    "#create 2 versions of full data \n",
    "pm1= pd.concat([pm, cat_ohe1], axis=1)\n",
    "pm1 = pm1[pm1.columns.drop(cat_vars)]\n",
    "\n",
    "pm2= pd.concat([pm, cat_ohe2], axis=1)\n",
    "pm2 = pm2[pm2.columns.drop(cat_vars)]"
   ]
  },
  {
   "cell_type": "code",
   "execution_count": 958,
   "id": "72f53a98",
   "metadata": {
    "scrolled": false
   },
   "outputs": [
    {
     "data": {
      "text/plain": [
       "((20601, 35), (20601, 39))"
      ]
     },
     "execution_count": 958,
     "metadata": {},
     "output_type": "execute_result"
    }
   ],
   "source": [
    "pm1.shape, pm2.shape"
   ]
  },
  {
   "cell_type": "code",
   "execution_count": 959,
   "id": "257c6897",
   "metadata": {},
   "outputs": [
    {
     "data": {
      "text/plain": [
       "Index(['year', 'PM2.5', 'PM10', 'SO2', 'NO2', 'CO', 'O3', 'TEMP', 'PRES',\n",
       "       'DEWP', 'RAIN', 'WSPM', 'wd_ENE', 'wd_ESE', 'wd_N', 'wd_NE', 'wd_NNE',\n",
       "       'wd_NNW', 'wd_NW', 'wd_S', 'wd_SE', 'wd_SSE', 'wd_SSW', 'wd_SW', 'wd_W',\n",
       "       'wd_WNW', 'wd_WSW', 'day_cat_late_mon', 'day_cat_mid_mon',\n",
       "       'month_season_spring', 'month_season_summer', 'month_season_winter',\n",
       "       'hour_cat_midnight', 'hour_cat_morning', 'hour_cat_night'],\n",
       "      dtype='object')"
      ]
     },
     "execution_count": 959,
     "metadata": {},
     "output_type": "execute_result"
    }
   ],
   "source": [
    "pm1.columns"
   ]
  },
  {
   "cell_type": "markdown",
   "id": "cc4e83e0",
   "metadata": {},
   "source": [
    "### 3. Model training & evaluation "
   ]
  },
  {
   "cell_type": "markdown",
   "id": "f5c7d3d4",
   "metadata": {},
   "source": [
    "I apply several methods: **simple linear regression model, Lasso regression, support vector regression, decision tree regression, and randomforest regression**. General models selection steps are: \n",
    "\n",
    "- Hyper-parameter tuning: apply GridSearch and a 3-5-folds cross validation in the training set to select the best model\n",
    "\n",
    "- Evaluate the best model performance in the test set that was set aside\n",
    "- Error analysis for the final best model"
   ]
  },
  {
   "cell_type": "markdown",
   "id": "bca79795",
   "metadata": {},
   "source": [
    "#### 3.1 Linear regression \n",
    "\n",
    "Use pm1 with categorical features that dropped the first categories"
   ]
  },
  {
   "cell_type": "markdown",
   "id": "f2fa1aa5",
   "metadata": {},
   "source": [
    "#### 3.1.1 split and standarization of numeric features"
   ]
  },
  {
   "cell_type": "markdown",
   "id": "e1e0a780",
   "metadata": {},
   "source": [
    "70% and 30% train test split. \n",
    "As suggested by the correlation matrix earlier, I will drop highly correlated features (DEWP, TEMP) because they will cause multicollinearity problems in a linear regression. "
   ]
  },
  {
   "cell_type": "code",
   "execution_count": 960,
   "id": "6e831a04",
   "metadata": {},
   "outputs": [
    {
     "name": "stdout",
     "output_type": "stream",
     "text": [
      "Training_X:  (14420, 32)\n",
      "Validation_X:  (6181, 32)\n",
      "Training_y:  (14420, 1)\n",
      "Validation_y:  (6181, 1)\n"
     ]
    }
   ],
   "source": [
    "drop= ['PM2.5', 'DEWP', 'TEMP']\n",
    "target=['PM2.5']\n",
    "X,y= pm1[pm1.columns.drop(drop)], pm1[target]\n",
    "#split \n",
    "train_X, test_X, train_y, test_y = train_test_split(X, y, test_size=0.3, random_state=42)\n",
    "#standardize features \n",
    "print('Training_X: ', train_X.shape)\n",
    "print('Validation_X: ', test_X.shape)\n",
    "print('Training_y: ', train_y.shape)\n",
    "print('Validation_y: ', test_y.shape)"
   ]
  },
  {
   "cell_type": "markdown",
   "id": "da03beb1",
   "metadata": {},
   "source": [
    "Standardization"
   ]
  },
  {
   "cell_type": "code",
   "execution_count": 961,
   "id": "4b5df43d",
   "metadata": {},
   "outputs": [],
   "source": [
    "scaler = StandardScaler()\n",
    "#train_X \n",
    "num_columns= train_X.columns.drop(cat_ohe1.columns)\n",
    "num_std= pd.DataFrame(scaler.fit_transform(train_X[num_columns]), columns= num_columns, index= train_X.index)\n",
    "train_X_std= pd.concat([num_std, train_X[cat_ohe1.columns]], axis=1)\n",
    "#test_X\n",
    "num_columns= test_X.columns.drop(cat_ohe1.columns)\n",
    "num_std= pd.DataFrame(scaler.fit_transform(test_X[num_columns]), columns= num_columns, index= test_X.index)\n",
    "test_X_std= pd.concat([num_std, test_X[cat_ohe1.columns]], axis=1)"
   ]
  },
  {
   "cell_type": "markdown",
   "id": "c66748d2",
   "metadata": {},
   "source": [
    "#### 3.1.2 A simple linear regression model\n",
    "\n",
    "I decide to first fit a simple linear regression model to serve as my baseline model performance. I expect model performance would increase as I apply more complex models."
   ]
  },
  {
   "cell_type": "code",
   "execution_count": 962,
   "id": "b05fb118",
   "metadata": {},
   "outputs": [
    {
     "data": {
      "text/html": [
       "<div>\n",
       "<style scoped>\n",
       "    .dataframe tbody tr th:only-of-type {\n",
       "        vertical-align: middle;\n",
       "    }\n",
       "\n",
       "    .dataframe tbody tr th {\n",
       "        vertical-align: top;\n",
       "    }\n",
       "\n",
       "    .dataframe thead th {\n",
       "        text-align: right;\n",
       "    }\n",
       "</style>\n",
       "<table border=\"1\" class=\"dataframe\">\n",
       "  <thead>\n",
       "    <tr style=\"text-align: right;\">\n",
       "      <th></th>\n",
       "      <th>Predictor</th>\n",
       "      <th>coefficient</th>\n",
       "    </tr>\n",
       "  </thead>\n",
       "  <tbody>\n",
       "    <tr>\n",
       "      <th>10</th>\n",
       "      <td>wd_ESE</td>\n",
       "      <td>58.483225</td>\n",
       "    </tr>\n",
       "    <tr>\n",
       "      <th>18</th>\n",
       "      <td>wd_SSE</td>\n",
       "      <td>55.511752</td>\n",
       "    </tr>\n",
       "    <tr>\n",
       "      <th>16</th>\n",
       "      <td>wd_S</td>\n",
       "      <td>54.573824</td>\n",
       "    </tr>\n",
       "    <tr>\n",
       "      <th>17</th>\n",
       "      <td>wd_SE</td>\n",
       "      <td>54.572445</td>\n",
       "    </tr>\n",
       "    <tr>\n",
       "      <th>1</th>\n",
       "      <td>PM10</td>\n",
       "      <td>54.109397</td>\n",
       "    </tr>\n",
       "    <tr>\n",
       "      <th>19</th>\n",
       "      <td>wd_SSW</td>\n",
       "      <td>52.814300</td>\n",
       "    </tr>\n",
       "    <tr>\n",
       "      <th>9</th>\n",
       "      <td>wd_ENE</td>\n",
       "      <td>52.502226</td>\n",
       "    </tr>\n",
       "    <tr>\n",
       "      <th>13</th>\n",
       "      <td>wd_NNE</td>\n",
       "      <td>52.439284</td>\n",
       "    </tr>\n",
       "    <tr>\n",
       "      <th>15</th>\n",
       "      <td>wd_NW</td>\n",
       "      <td>52.229542</td>\n",
       "    </tr>\n",
       "    <tr>\n",
       "      <th>23</th>\n",
       "      <td>wd_WSW</td>\n",
       "      <td>52.023974</td>\n",
       "    </tr>\n",
       "  </tbody>\n",
       "</table>\n",
       "</div>"
      ],
      "text/plain": [
       "   Predictor  coefficient\n",
       "10    wd_ESE    58.483225\n",
       "18    wd_SSE    55.511752\n",
       "16      wd_S    54.573824\n",
       "17     wd_SE    54.572445\n",
       "1       PM10    54.109397\n",
       "19    wd_SSW    52.814300\n",
       "9     wd_ENE    52.502226\n",
       "13    wd_NNE    52.439284\n",
       "15     wd_NW    52.229542\n",
       "23    wd_WSW    52.023974"
      ]
     },
     "execution_count": 962,
     "metadata": {},
     "output_type": "execute_result"
    }
   ],
   "source": [
    "lr= LinearRegression(fit_intercept= False)\n",
    "lr.fit(train_X_std, train_y)\n",
    "df= pd.DataFrame({'Predictor': train_X_std.columns, 'coefficient': lr.coef_.ravel()})\n",
    "df= df.sort_values(by='coefficient',ascending= False, key= pd.Series.abs)\n",
    "df[0:10]"
   ]
  },
  {
   "cell_type": "code",
   "execution_count": 963,
   "id": "7f80fc1e",
   "metadata": {},
   "outputs": [
    {
     "name": "stdout",
     "output_type": "stream",
     "text": [
      "R^2: 0.790293565946785\n",
      "MAE: 25.293\n"
     ]
    }
   ],
   "source": [
    "#Using test set to evaluate performance\n",
    "y_pred= lr.predict(test_X_std)\n",
    "print(\"R^2:\", r2_score(test_y, y_pred))\n",
    "print('MAE: %.3f'% mean_absolute_error(test_y, y_pred))"
   ]
  },
  {
   "cell_type": "markdown",
   "id": "e32dc44c",
   "metadata": {},
   "source": [
    "The R^2 suggests that 79% of the variance in PM2.5 could be explained by this model. Although 79% is not low, this model used every available feature and a high R^2 is expected. "
   ]
  },
  {
   "cell_type": "markdown",
   "id": "16e7adf6",
   "metadata": {},
   "source": [
    "**Lasso with GridSearch for the best alpha**\n",
    "\n",
    "Given the fact that I would like to reduce the # of features for more parsimonious model, I apply Lasso regularization to hopefully reduce some feature coefficients to 0. "
   ]
  },
  {
   "cell_type": "markdown",
   "id": "1010fb4b",
   "metadata": {},
   "source": [
    "I will use negative mean absolute error instead of R^2 to select the best parameters\n",
    "\n",
    "https://scikit-learn.org/stable/modules/model_evaluation.html#scoring-parameter"
   ]
  },
  {
   "cell_type": "code",
   "execution_count": 964,
   "id": "f849ce3e",
   "metadata": {
    "scrolled": true
   },
   "outputs": [
    {
     "name": "stdout",
     "output_type": "stream",
     "text": [
      "time: 3.898143768310547e-09\n",
      "Best parameters: {'alpha': 0.1}\n"
     ]
    }
   ],
   "source": [
    "params= {'alpha': [0.01, 0.1, 1]}\n",
    "start = time.time()\n",
    "search= GridSearchCV(Lasso(random_state=42), params, cv=5, n_jobs=5, scoring= 'neg_mean_absolute_error') \n",
    "end = time.time()\n",
    "results= search.fit(train_X_std, train_y)\n",
    "print('time:',(end-start)/(1000*60)) # milli-seconds: 0.001 second\n",
    "print('Best parameters: %s' % results.best_params_)"
   ]
  },
  {
   "cell_type": "code",
   "execution_count": 965,
   "id": "a590e1fd",
   "metadata": {
    "scrolled": true
   },
   "outputs": [
    {
     "name": "stdout",
     "output_type": "stream",
     "text": [
      "R^2: 0.8405937808538835\n",
      "MAE: 20.662\n"
     ]
    }
   ],
   "source": [
    "lasso_best= results.best_estimator_\n",
    "lasso_best.fit(train_X_std, train_y)\n",
    "print(\"R^2:\", r2_score(test_y, lasso_best.predict(test_X_std)))\n",
    "print('MAE: %.3f'% mean_absolute_error(test_y, lasso_best.predict(test_X_std)))"
   ]
  },
  {
   "cell_type": "markdown",
   "id": "1928c910",
   "metadata": {},
   "source": [
    "Both the MAE (20.66 vs. 25.29) and R^2 (0.79 vs. 0.84) improved compared to my baseline simple linear regression"
   ]
  },
  {
   "cell_type": "code",
   "execution_count": 966,
   "id": "32889703",
   "metadata": {},
   "outputs": [
    {
     "data": {
      "text/html": [
       "<div>\n",
       "<style scoped>\n",
       "    .dataframe tbody tr th:only-of-type {\n",
       "        vertical-align: middle;\n",
       "    }\n",
       "\n",
       "    .dataframe tbody tr th {\n",
       "        vertical-align: top;\n",
       "    }\n",
       "\n",
       "    .dataframe thead th {\n",
       "        text-align: right;\n",
       "    }\n",
       "</style>\n",
       "<table border=\"1\" class=\"dataframe\">\n",
       "  <thead>\n",
       "    <tr style=\"text-align: right;\">\n",
       "      <th></th>\n",
       "      <th>Predictor</th>\n",
       "      <th>coefficient</th>\n",
       "    </tr>\n",
       "  </thead>\n",
       "  <tbody>\n",
       "    <tr>\n",
       "      <th>1</th>\n",
       "      <td>PM10</td>\n",
       "      <td>53.878286</td>\n",
       "    </tr>\n",
       "    <tr>\n",
       "      <th>4</th>\n",
       "      <td>CO</td>\n",
       "      <td>20.383368</td>\n",
       "    </tr>\n",
       "    <tr>\n",
       "      <th>26</th>\n",
       "      <td>month_season_spring</td>\n",
       "      <td>-8.363435</td>\n",
       "    </tr>\n",
       "    <tr>\n",
       "      <th>31</th>\n",
       "      <td>hour_cat_night</td>\n",
       "      <td>-6.140555</td>\n",
       "    </tr>\n",
       "    <tr>\n",
       "      <th>8</th>\n",
       "      <td>WSPM</td>\n",
       "      <td>-5.339473</td>\n",
       "    </tr>\n",
       "    <tr>\n",
       "      <th>10</th>\n",
       "      <td>wd_ESE</td>\n",
       "      <td>4.308984</td>\n",
       "    </tr>\n",
       "    <tr>\n",
       "      <th>21</th>\n",
       "      <td>wd_W</td>\n",
       "      <td>-3.875612</td>\n",
       "    </tr>\n",
       "    <tr>\n",
       "      <th>5</th>\n",
       "      <td>O3</td>\n",
       "      <td>3.475800</td>\n",
       "    </tr>\n",
       "    <tr>\n",
       "      <th>2</th>\n",
       "      <td>SO2</td>\n",
       "      <td>2.558845</td>\n",
       "    </tr>\n",
       "    <tr>\n",
       "      <th>3</th>\n",
       "      <td>NO2</td>\n",
       "      <td>2.095193</td>\n",
       "    </tr>\n",
       "    <tr>\n",
       "      <th>20</th>\n",
       "      <td>wd_SW</td>\n",
       "      <td>-1.930473</td>\n",
       "    </tr>\n",
       "    <tr>\n",
       "      <th>30</th>\n",
       "      <td>hour_cat_morning</td>\n",
       "      <td>-1.776468</td>\n",
       "    </tr>\n",
       "    <tr>\n",
       "      <th>24</th>\n",
       "      <td>day_cat_late_mon</td>\n",
       "      <td>-1.605007</td>\n",
       "    </tr>\n",
       "    <tr>\n",
       "      <th>28</th>\n",
       "      <td>month_season_winter</td>\n",
       "      <td>-1.125616</td>\n",
       "    </tr>\n",
       "    <tr>\n",
       "      <th>22</th>\n",
       "      <td>wd_WNW</td>\n",
       "      <td>-1.096496</td>\n",
       "    </tr>\n",
       "    <tr>\n",
       "      <th>7</th>\n",
       "      <td>RAIN</td>\n",
       "      <td>0.780822</td>\n",
       "    </tr>\n",
       "    <tr>\n",
       "      <th>25</th>\n",
       "      <td>day_cat_mid_mon</td>\n",
       "      <td>-0.472339</td>\n",
       "    </tr>\n",
       "    <tr>\n",
       "      <th>0</th>\n",
       "      <td>year</td>\n",
       "      <td>0.427206</td>\n",
       "    </tr>\n",
       "    <tr>\n",
       "      <th>6</th>\n",
       "      <td>PRES</td>\n",
       "      <td>-0.321750</td>\n",
       "    </tr>\n",
       "    <tr>\n",
       "      <th>12</th>\n",
       "      <td>wd_NE</td>\n",
       "      <td>0.045607</td>\n",
       "    </tr>\n",
       "  </tbody>\n",
       "</table>\n",
       "</div>"
      ],
      "text/plain": [
       "              Predictor  coefficient\n",
       "1                  PM10    53.878286\n",
       "4                    CO    20.383368\n",
       "26  month_season_spring    -8.363435\n",
       "31       hour_cat_night    -6.140555\n",
       "8                  WSPM    -5.339473\n",
       "10               wd_ESE     4.308984\n",
       "21                 wd_W    -3.875612\n",
       "5                    O3     3.475800\n",
       "2                   SO2     2.558845\n",
       "3                   NO2     2.095193\n",
       "20                wd_SW    -1.930473\n",
       "30     hour_cat_morning    -1.776468\n",
       "24     day_cat_late_mon    -1.605007\n",
       "28  month_season_winter    -1.125616\n",
       "22               wd_WNW    -1.096496\n",
       "7                  RAIN     0.780822\n",
       "25      day_cat_mid_mon    -0.472339\n",
       "0                  year     0.427206\n",
       "6                  PRES    -0.321750\n",
       "12                wd_NE     0.045607"
      ]
     },
     "execution_count": 966,
     "metadata": {},
     "output_type": "execute_result"
    }
   ],
   "source": [
    "df= pd.DataFrame({'Predictor': train_X_std.columns, 'coefficient': lasso_best.coef_.ravel()})\n",
    "df= df.sort_values(by='coefficient',ascending= False, key= pd.Series.abs)\n",
    "df.loc[df['coefficient'] != 0]"
   ]
  },
  {
   "cell_type": "markdown",
   "id": "449240fb",
   "metadata": {},
   "source": [
    "As can be seen from the coefficients table, Lasso was able to reduce the model features to only 20. Lasso also results into a model with better performance. However, this model is still quite complex. "
   ]
  },
  {
   "cell_type": "markdown",
   "id": "9705aa7c",
   "metadata": {},
   "source": [
    "#### 3.1.3 Support vector regression \n",
    "\n",
    "Given I have relatively large size of data, I will use LinearSVR. "
   ]
  },
  {
   "cell_type": "code",
   "execution_count": 967,
   "id": "604b2488",
   "metadata": {},
   "outputs": [
    {
     "name": "stdout",
     "output_type": "stream",
     "text": [
      "Training_X:  (14420, 36)\n",
      "Validation_X:  (6181, 36)\n",
      "Training_y:  (14420, 1)\n",
      "Validation_y:  (6181, 1)\n"
     ]
    }
   ],
   "source": [
    "X,y= pm2[pm2.columns.drop(drop)], pm2[target]\n",
    "#split \n",
    "train_X, test_X, train_y, test_y = train_test_split(X, y, test_size=0.3, random_state=42)\n",
    "#standardize features \n",
    "print('Training_X: ', train_X.shape)\n",
    "print('Validation_X: ', test_X.shape)\n",
    "print('Training_y: ', train_y.shape)\n",
    "print('Validation_y: ', test_y.shape)"
   ]
  },
  {
   "cell_type": "markdown",
   "id": "736dcfdb",
   "metadata": {},
   "source": [
    "Standardization"
   ]
  },
  {
   "cell_type": "code",
   "execution_count": 968,
   "id": "eb012e09",
   "metadata": {},
   "outputs": [],
   "source": [
    "#train_X \n",
    "num_columns= train_X.columns.drop(cat_ohe2.columns)\n",
    "num_std= pd.DataFrame(scaler.fit_transform(train_X[num_columns]), columns= num_columns, index= train_X.index)\n",
    "train_X_std= pd.concat([num_std, train_X[cat_ohe2.columns]], axis=1)\n",
    "#test_X\n",
    "num_columns= test_X.columns.drop(cat_ohe2.columns)\n",
    "num_std= pd.DataFrame(scaler.fit_transform(test_X[num_columns]), columns= num_columns, index= test_X.index)\n",
    "test_X_std= pd.concat([num_std, test_X[cat_ohe2.columns]], axis=1)"
   ]
  },
  {
   "cell_type": "code",
   "execution_count": 969,
   "id": "513d1c14",
   "metadata": {},
   "outputs": [
    {
     "name": "stdout",
     "output_type": "stream",
     "text": [
      "time: 1.5497207641601562e-09\n",
      "Best parameters: {'C': 1}\n",
      "R^2: 0.8345358820760607\n",
      "MAE: 20.178\n"
     ]
    }
   ],
   "source": [
    "params= {'C': [0.1, 1, 10]}\n",
    "start = time.time()\n",
    "search= GridSearchCV(LinearSVR(random_state=42), params, cv=5, n_jobs=5, scoring= 'neg_mean_absolute_error') \n",
    "end = time.time()\n",
    "search.fit(train_X_std, train_y)\n",
    "print('time:',(end-start)/(1000*60)) # milli-seconds: 0.001 second\n",
    "print('Best parameters: %s' % search.best_params_)\n",
    "svm_best= search.best_estimator_\n",
    "svm_best.fit(train_X_std, train_y)\n",
    "print(\"R^2:\", r2_score(test_y, svm_best.predict(test_X_std)))\n",
    "print('MAE: %.3f'% mean_absolute_error(test_y, svm_best.predict(test_X_std)))"
   ]
  },
  {
   "cell_type": "code",
   "execution_count": 970,
   "id": "7916d3e6",
   "metadata": {},
   "outputs": [
    {
     "data": {
      "text/html": [
       "<div>\n",
       "<style scoped>\n",
       "    .dataframe tbody tr th:only-of-type {\n",
       "        vertical-align: middle;\n",
       "    }\n",
       "\n",
       "    .dataframe tbody tr th {\n",
       "        vertical-align: top;\n",
       "    }\n",
       "\n",
       "    .dataframe thead th {\n",
       "        text-align: right;\n",
       "    }\n",
       "</style>\n",
       "<table border=\"1\" class=\"dataframe\">\n",
       "  <thead>\n",
       "    <tr style=\"text-align: right;\">\n",
       "      <th></th>\n",
       "      <th>Predictor</th>\n",
       "      <th>coefficient</th>\n",
       "    </tr>\n",
       "  </thead>\n",
       "  <tbody>\n",
       "    <tr>\n",
       "      <th>1</th>\n",
       "      <td>PM10</td>\n",
       "      <td>62.804338</td>\n",
       "    </tr>\n",
       "    <tr>\n",
       "      <th>4</th>\n",
       "      <td>CO</td>\n",
       "      <td>18.658325</td>\n",
       "    </tr>\n",
       "    <tr>\n",
       "      <th>25</th>\n",
       "      <td>day_cat_early_mon</td>\n",
       "      <td>14.676367</td>\n",
       "    </tr>\n",
       "    <tr>\n",
       "      <th>30</th>\n",
       "      <td>month_season_summer</td>\n",
       "      <td>14.473423</td>\n",
       "    </tr>\n",
       "    <tr>\n",
       "      <th>27</th>\n",
       "      <td>day_cat_mid_mon</td>\n",
       "      <td>14.367820</td>\n",
       "    </tr>\n",
       "    <tr>\n",
       "      <th>26</th>\n",
       "      <td>day_cat_late_mon</td>\n",
       "      <td>13.593084</td>\n",
       "    </tr>\n",
       "    <tr>\n",
       "      <th>32</th>\n",
       "      <td>hour_cat_afternoon</td>\n",
       "      <td>12.984712</td>\n",
       "    </tr>\n",
       "    <tr>\n",
       "      <th>33</th>\n",
       "      <td>hour_cat_midnight</td>\n",
       "      <td>12.241538</td>\n",
       "    </tr>\n",
       "    <tr>\n",
       "      <th>28</th>\n",
       "      <td>month_season_fall</td>\n",
       "      <td>11.307411</td>\n",
       "    </tr>\n",
       "    <tr>\n",
       "      <th>31</th>\n",
       "      <td>month_season_winter</td>\n",
       "      <td>10.470638</td>\n",
       "    </tr>\n",
       "    <tr>\n",
       "      <th>34</th>\n",
       "      <td>hour_cat_morning</td>\n",
       "      <td>10.357685</td>\n",
       "    </tr>\n",
       "    <tr>\n",
       "      <th>35</th>\n",
       "      <td>hour_cat_night</td>\n",
       "      <td>7.053336</td>\n",
       "    </tr>\n",
       "    <tr>\n",
       "      <th>29</th>\n",
       "      <td>month_season_spring</td>\n",
       "      <td>6.385799</td>\n",
       "    </tr>\n",
       "    <tr>\n",
       "      <th>11</th>\n",
       "      <td>wd_ESE</td>\n",
       "      <td>5.485781</td>\n",
       "    </tr>\n",
       "    <tr>\n",
       "      <th>9</th>\n",
       "      <td>wd_E</td>\n",
       "      <td>4.293576</td>\n",
       "    </tr>\n",
       "    <tr>\n",
       "      <th>10</th>\n",
       "      <td>wd_ENE</td>\n",
       "      <td>4.216831</td>\n",
       "    </tr>\n",
       "    <tr>\n",
       "      <th>13</th>\n",
       "      <td>wd_NE</td>\n",
       "      <td>4.019369</td>\n",
       "    </tr>\n",
       "    <tr>\n",
       "      <th>18</th>\n",
       "      <td>wd_SE</td>\n",
       "      <td>3.748345</td>\n",
       "    </tr>\n",
       "    <tr>\n",
       "      <th>12</th>\n",
       "      <td>wd_N</td>\n",
       "      <td>3.294049</td>\n",
       "    </tr>\n",
       "    <tr>\n",
       "      <th>19</th>\n",
       "      <td>wd_SSE</td>\n",
       "      <td>3.097316</td>\n",
       "    </tr>\n",
       "    <tr>\n",
       "      <th>14</th>\n",
       "      <td>wd_NNE</td>\n",
       "      <td>3.014025</td>\n",
       "    </tr>\n",
       "    <tr>\n",
       "      <th>15</th>\n",
       "      <td>wd_NNW</td>\n",
       "      <td>2.948147</td>\n",
       "    </tr>\n",
       "    <tr>\n",
       "      <th>3</th>\n",
       "      <td>NO2</td>\n",
       "      <td>-2.759249</td>\n",
       "    </tr>\n",
       "    <tr>\n",
       "      <th>16</th>\n",
       "      <td>wd_NW</td>\n",
       "      <td>2.396363</td>\n",
       "    </tr>\n",
       "    <tr>\n",
       "      <th>8</th>\n",
       "      <td>WSPM</td>\n",
       "      <td>-2.317650</td>\n",
       "    </tr>\n",
       "    <tr>\n",
       "      <th>17</th>\n",
       "      <td>wd_S</td>\n",
       "      <td>1.931129</td>\n",
       "    </tr>\n",
       "    <tr>\n",
       "      <th>20</th>\n",
       "      <td>wd_SSW</td>\n",
       "      <td>1.769973</td>\n",
       "    </tr>\n",
       "    <tr>\n",
       "      <th>23</th>\n",
       "      <td>wd_WNW</td>\n",
       "      <td>1.686046</td>\n",
       "    </tr>\n",
       "    <tr>\n",
       "      <th>5</th>\n",
       "      <td>O3</td>\n",
       "      <td>1.130107</td>\n",
       "    </tr>\n",
       "    <tr>\n",
       "      <th>6</th>\n",
       "      <td>PRES</td>\n",
       "      <td>0.987998</td>\n",
       "    </tr>\n",
       "    <tr>\n",
       "      <th>24</th>\n",
       "      <td>wd_WSW</td>\n",
       "      <td>0.934046</td>\n",
       "    </tr>\n",
       "    <tr>\n",
       "      <th>7</th>\n",
       "      <td>RAIN</td>\n",
       "      <td>0.536637</td>\n",
       "    </tr>\n",
       "    <tr>\n",
       "      <th>0</th>\n",
       "      <td>year</td>\n",
       "      <td>0.360602</td>\n",
       "    </tr>\n",
       "    <tr>\n",
       "      <th>2</th>\n",
       "      <td>SO2</td>\n",
       "      <td>-0.244992</td>\n",
       "    </tr>\n",
       "    <tr>\n",
       "      <th>21</th>\n",
       "      <td>wd_SW</td>\n",
       "      <td>-0.238981</td>\n",
       "    </tr>\n",
       "    <tr>\n",
       "      <th>22</th>\n",
       "      <td>wd_W</td>\n",
       "      <td>0.041256</td>\n",
       "    </tr>\n",
       "  </tbody>\n",
       "</table>\n",
       "</div>"
      ],
      "text/plain": [
       "              Predictor  coefficient\n",
       "1                  PM10    62.804338\n",
       "4                    CO    18.658325\n",
       "25    day_cat_early_mon    14.676367\n",
       "30  month_season_summer    14.473423\n",
       "27      day_cat_mid_mon    14.367820\n",
       "26     day_cat_late_mon    13.593084\n",
       "32   hour_cat_afternoon    12.984712\n",
       "33    hour_cat_midnight    12.241538\n",
       "28    month_season_fall    11.307411\n",
       "31  month_season_winter    10.470638\n",
       "34     hour_cat_morning    10.357685\n",
       "35       hour_cat_night     7.053336\n",
       "29  month_season_spring     6.385799\n",
       "11               wd_ESE     5.485781\n",
       "9                  wd_E     4.293576\n",
       "10               wd_ENE     4.216831\n",
       "13                wd_NE     4.019369\n",
       "18                wd_SE     3.748345\n",
       "12                 wd_N     3.294049\n",
       "19               wd_SSE     3.097316\n",
       "14               wd_NNE     3.014025\n",
       "15               wd_NNW     2.948147\n",
       "3                   NO2    -2.759249\n",
       "16                wd_NW     2.396363\n",
       "8                  WSPM    -2.317650\n",
       "17                 wd_S     1.931129\n",
       "20               wd_SSW     1.769973\n",
       "23               wd_WNW     1.686046\n",
       "5                    O3     1.130107\n",
       "6                  PRES     0.987998\n",
       "24               wd_WSW     0.934046\n",
       "7                  RAIN     0.536637\n",
       "0                  year     0.360602\n",
       "2                   SO2    -0.244992\n",
       "21                wd_SW    -0.238981\n",
       "22                 wd_W     0.041256"
      ]
     },
     "execution_count": 970,
     "metadata": {},
     "output_type": "execute_result"
    }
   ],
   "source": [
    "df= pd.DataFrame({'Predictor': train_X_std.columns, 'coefficient': svm_best.coef_.ravel()})\n",
    "df= df.sort_values(by='coefficient',ascending= False, key= pd.Series.abs)\n",
    "df.loc[df['coefficient'] != 0]"
   ]
  },
  {
   "cell_type": "markdown",
   "id": "0fac4d83",
   "metadata": {},
   "source": [
    "The results look worse compared to Lasso. Although they have similar R^2 and MAE, the Lasso was able to reduce the number of features significantly, whereas svm did not. "
   ]
  },
  {
   "cell_type": "markdown",
   "id": "99c8e3ce",
   "metadata": {},
   "source": [
    "#### 3.1.4 Decision tree regressor\n",
    "\n",
    "No need to standardize features"
   ]
  },
  {
   "cell_type": "code",
   "execution_count": 971,
   "id": "75ddc7fd",
   "metadata": {
    "scrolled": true
   },
   "outputs": [
    {
     "name": "stdout",
     "output_type": "stream",
     "text": [
      "MAE: -18.684\n",
      "Best parameters: {'criterion': 'absolute_error', 'max_depth': 5}\n",
      "time: 0.0003205331007639567\n"
     ]
    }
   ],
   "source": [
    "params= {\n",
    "    'criterion': ['absolute_error'],\n",
    "    'max_depth': [3,4,5]\n",
    "        }\n",
    "start = time.time()\n",
    "search= GridSearchCV(DecisionTreeRegressor(random_state=42), params, cv=3, n_jobs=5, scoring= 'neg_mean_absolute_error') \n",
    "search.fit(train_X, train_y)\n",
    "end = time.time()\n",
    "\n",
    "print('MAE: %.3f' % search.best_score_)\n",
    "print('Best parameters: %s' % search.best_params_)\n",
    "print('time:',(end-start)/(1000*60)) # milli-seconds: 0.001 second"
   ]
  },
  {
   "cell_type": "code",
   "execution_count": 972,
   "id": "8f11b6ec",
   "metadata": {},
   "outputs": [
    {
     "name": "stdout",
     "output_type": "stream",
     "text": [
      "R^2: 0.8324004158489225\n",
      "MAE: 19.439\n"
     ]
    }
   ],
   "source": [
    "dt_best= search.best_estimator_\n",
    "dt_best.fit(train_X, train_y)\n",
    "print(\"R^2:\", r2_score(test_y, dt_best.predict(test_X)))\n",
    "print('MAE: %.3f'% mean_absolute_error(test_y, dt_best.predict(test_X)))"
   ]
  },
  {
   "cell_type": "code",
   "execution_count": 973,
   "id": "070b8bf8",
   "metadata": {
    "scrolled": true
   },
   "outputs": [
    {
     "data": {
      "text/html": [
       "<div>\n",
       "<style scoped>\n",
       "    .dataframe tbody tr th:only-of-type {\n",
       "        vertical-align: middle;\n",
       "    }\n",
       "\n",
       "    .dataframe tbody tr th {\n",
       "        vertical-align: top;\n",
       "    }\n",
       "\n",
       "    .dataframe thead th {\n",
       "        text-align: right;\n",
       "    }\n",
       "</style>\n",
       "<table border=\"1\" class=\"dataframe\">\n",
       "  <thead>\n",
       "    <tr style=\"text-align: right;\">\n",
       "      <th></th>\n",
       "      <th>Predictor</th>\n",
       "      <th>coefficient</th>\n",
       "    </tr>\n",
       "  </thead>\n",
       "  <tbody>\n",
       "    <tr>\n",
       "      <th>1</th>\n",
       "      <td>PM10</td>\n",
       "      <td>0.885934</td>\n",
       "    </tr>\n",
       "    <tr>\n",
       "      <th>4</th>\n",
       "      <td>CO</td>\n",
       "      <td>0.093068</td>\n",
       "    </tr>\n",
       "    <tr>\n",
       "      <th>3</th>\n",
       "      <td>NO2</td>\n",
       "      <td>0.017366</td>\n",
       "    </tr>\n",
       "    <tr>\n",
       "      <th>2</th>\n",
       "      <td>SO2</td>\n",
       "      <td>0.002091</td>\n",
       "    </tr>\n",
       "    <tr>\n",
       "      <th>5</th>\n",
       "      <td>O3</td>\n",
       "      <td>0.001075</td>\n",
       "    </tr>\n",
       "    <tr>\n",
       "      <th>8</th>\n",
       "      <td>WSPM</td>\n",
       "      <td>0.000466</td>\n",
       "    </tr>\n",
       "  </tbody>\n",
       "</table>\n",
       "</div>"
      ],
      "text/plain": [
       "  Predictor  coefficient\n",
       "1      PM10     0.885934\n",
       "4        CO     0.093068\n",
       "3       NO2     0.017366\n",
       "2       SO2     0.002091\n",
       "5        O3     0.001075\n",
       "8      WSPM     0.000466"
      ]
     },
     "execution_count": 973,
     "metadata": {},
     "output_type": "execute_result"
    }
   ],
   "source": [
    "df= pd.DataFrame({'Predictor': train_X_std.columns, 'coefficient': dt_best.feature_importances_})\n",
    "df= df.sort_values(by='coefficient',ascending= False, key= pd.Series.abs)\n",
    "df.loc[df['coefficient'] != 0]"
   ]
  },
  {
   "cell_type": "markdown",
   "id": "7a58a14a",
   "metadata": {},
   "source": [
    "I would like to keep the tree simpler by limiting the \"max_depth\" in my grid search to 3-5. If I increase this number range, the R^2 would likely to go up, sacrificing the simplicity of my model. However, even with a maximum depth of the tree being 5, the model performance is slightly better judging by MAE compared to SVM, Lasso regression, and simple linear regression. More importantly, the model built by decision tree regression results in a model with only 7 predictive features for PM2.5. This is a greater reduction of features compared to Lasso. **So far, the decision tree regressor seems to produce the best model**. "
   ]
  },
  {
   "cell_type": "markdown",
   "id": "5a96490f",
   "metadata": {},
   "source": [
    "#### 3.1.5 Random forest decision tree regressor\n",
    "\n",
    "Take one step further of the decistion tree regression using a ensemble method"
   ]
  },
  {
   "cell_type": "code",
   "execution_count": 974,
   "id": "e43a2b6e",
   "metadata": {
    "scrolled": true
   },
   "outputs": [
    {
     "name": "stdout",
     "output_type": "stream",
     "text": [
      "MAE: -17.795\n",
      "Best parameters: {'criterion': 'absolute_error', 'max_depth': 5, 'n_estimators': 10}\n",
      "time: 0.0013783298373222352\n"
     ]
    }
   ],
   "source": [
    "params= {\n",
    "    'n_estimators': [10],\n",
    "    'criterion': ['absolute_error'],\n",
    "    'max_depth': [3,4,5]\n",
    "        }\n",
    "start = time.time()\n",
    "search= GridSearchCV(RandomForestRegressor(random_state=42), params, cv=3, n_jobs=5, scoring= 'neg_mean_absolute_error') \n",
    "search.fit(train_X, train_y)\n",
    "end = time.time()\n",
    "\n",
    "print('MAE: %.3f' % search.best_score_)\n",
    "print('Best parameters: %s' % search.best_params_)\n",
    "print('time:',(end-start)/(1000*60)) # milli-seconds: 0.001 second"
   ]
  },
  {
   "cell_type": "code",
   "execution_count": 975,
   "id": "16a2988f",
   "metadata": {},
   "outputs": [
    {
     "name": "stdout",
     "output_type": "stream",
     "text": [
      "R^2: 0.8509713301624034\n",
      "MAE: 18.570\n"
     ]
    }
   ],
   "source": [
    "rf_best= search.best_estimator_\n",
    "rf_best.fit(train_X, train_y)\n",
    "print(\"R^2:\", r2_score(test_y, rf_best.predict(test_X)))\n",
    "print('MAE: %.3f'% mean_absolute_error(test_y, rf_best.predict(test_X)))"
   ]
  },
  {
   "cell_type": "code",
   "execution_count": 977,
   "id": "72a3dbcc",
   "metadata": {
    "scrolled": false
   },
   "outputs": [
    {
     "data": {
      "text/html": [
       "<div>\n",
       "<style scoped>\n",
       "    .dataframe tbody tr th:only-of-type {\n",
       "        vertical-align: middle;\n",
       "    }\n",
       "\n",
       "    .dataframe tbody tr th {\n",
       "        vertical-align: top;\n",
       "    }\n",
       "\n",
       "    .dataframe thead th {\n",
       "        text-align: right;\n",
       "    }\n",
       "</style>\n",
       "<table border=\"1\" class=\"dataframe\">\n",
       "  <thead>\n",
       "    <tr style=\"text-align: right;\">\n",
       "      <th></th>\n",
       "      <th>Predictor</th>\n",
       "      <th>coefficient</th>\n",
       "    </tr>\n",
       "  </thead>\n",
       "  <tbody>\n",
       "    <tr>\n",
       "      <th>1</th>\n",
       "      <td>PM10</td>\n",
       "      <td>0.885317</td>\n",
       "    </tr>\n",
       "    <tr>\n",
       "      <th>4</th>\n",
       "      <td>CO</td>\n",
       "      <td>0.101542</td>\n",
       "    </tr>\n",
       "    <tr>\n",
       "      <th>3</th>\n",
       "      <td>NO2</td>\n",
       "      <td>0.007749</td>\n",
       "    </tr>\n",
       "    <tr>\n",
       "      <th>2</th>\n",
       "      <td>SO2</td>\n",
       "      <td>0.002313</td>\n",
       "    </tr>\n",
       "    <tr>\n",
       "      <th>6</th>\n",
       "      <td>PRES</td>\n",
       "      <td>0.001042</td>\n",
       "    </tr>\n",
       "    <tr>\n",
       "      <th>5</th>\n",
       "      <td>O3</td>\n",
       "      <td>0.000981</td>\n",
       "    </tr>\n",
       "    <tr>\n",
       "      <th>8</th>\n",
       "      <td>WSPM</td>\n",
       "      <td>0.000802</td>\n",
       "    </tr>\n",
       "    <tr>\n",
       "      <th>0</th>\n",
       "      <td>year</td>\n",
       "      <td>0.000162</td>\n",
       "    </tr>\n",
       "    <tr>\n",
       "      <th>29</th>\n",
       "      <td>month_season_spring</td>\n",
       "      <td>0.000092</td>\n",
       "    </tr>\n",
       "  </tbody>\n",
       "</table>\n",
       "</div>"
      ],
      "text/plain": [
       "              Predictor  coefficient\n",
       "1                  PM10     0.885317\n",
       "4                    CO     0.101542\n",
       "3                   NO2     0.007749\n",
       "2                   SO2     0.002313\n",
       "6                  PRES     0.001042\n",
       "5                    O3     0.000981\n",
       "8                  WSPM     0.000802\n",
       "0                  year     0.000162\n",
       "29  month_season_spring     0.000092"
      ]
     },
     "execution_count": 977,
     "metadata": {},
     "output_type": "execute_result"
    }
   ],
   "source": [
    "df= pd.DataFrame({'Predictor': train_X_std.columns, 'coefficient': rf_best.feature_importances_})\n",
    "df= df.sort_values(by='coefficient',ascending= False, key= pd.Series.abs)\n",
    "df.loc[df['coefficient'] != 0]"
   ]
  },
  {
   "cell_type": "markdown",
   "id": "bade6121",
   "metadata": {},
   "source": [
    "This model has the highest R^2 so far and lowest MAE with only 9 features. This is my **best-performed model**."
   ]
  },
  {
   "cell_type": "markdown",
   "id": "ed247f85",
   "metadata": {},
   "source": [
    "### 4. Interpretation and error analysis"
   ]
  },
  {
   "cell_type": "markdown",
   "id": "218bd23f",
   "metadata": {},
   "source": [
    "The final model created by random forest regression is below. It looks like many of the air pollution measures other than PM2.5 are predictive of PM2.5, which could be useful to make prediction when these information are available. Spring season, year, and wind speed were also positively associated with increase level of PM2.5."
   ]
  },
  {
   "cell_type": "code",
   "execution_count": 983,
   "id": "d9e3879d",
   "metadata": {
    "scrolled": true
   },
   "outputs": [
    {
     "data": {
      "text/html": [
       "<div>\n",
       "<style scoped>\n",
       "    .dataframe tbody tr th:only-of-type {\n",
       "        vertical-align: middle;\n",
       "    }\n",
       "\n",
       "    .dataframe tbody tr th {\n",
       "        vertical-align: top;\n",
       "    }\n",
       "\n",
       "    .dataframe thead th {\n",
       "        text-align: right;\n",
       "    }\n",
       "</style>\n",
       "<table border=\"1\" class=\"dataframe\">\n",
       "  <thead>\n",
       "    <tr style=\"text-align: right;\">\n",
       "      <th></th>\n",
       "      <th>Predictor</th>\n",
       "      <th>coefficient</th>\n",
       "      <th>label</th>\n",
       "    </tr>\n",
       "  </thead>\n",
       "  <tbody>\n",
       "    <tr>\n",
       "      <th>1</th>\n",
       "      <td>PM10</td>\n",
       "      <td>0.885317</td>\n",
       "      <td>PM10 concentration (ug/m^3)</td>\n",
       "    </tr>\n",
       "    <tr>\n",
       "      <th>4</th>\n",
       "      <td>CO</td>\n",
       "      <td>0.101542</td>\n",
       "      <td>CO concentration (ug/m^3)</td>\n",
       "    </tr>\n",
       "    <tr>\n",
       "      <th>3</th>\n",
       "      <td>NO2</td>\n",
       "      <td>0.007749</td>\n",
       "      <td>NO2 concentration (ug/m^3)</td>\n",
       "    </tr>\n",
       "    <tr>\n",
       "      <th>2</th>\n",
       "      <td>SO2</td>\n",
       "      <td>0.002313</td>\n",
       "      <td>SO2 concentration (ug/m^3)</td>\n",
       "    </tr>\n",
       "    <tr>\n",
       "      <th>6</th>\n",
       "      <td>PRES</td>\n",
       "      <td>0.001042</td>\n",
       "      <td>Pressure (hPa)</td>\n",
       "    </tr>\n",
       "    <tr>\n",
       "      <th>5</th>\n",
       "      <td>O3</td>\n",
       "      <td>0.000981</td>\n",
       "      <td>O3 concentration (ug/m^3)</td>\n",
       "    </tr>\n",
       "    <tr>\n",
       "      <th>8</th>\n",
       "      <td>WSPM</td>\n",
       "      <td>0.000802</td>\n",
       "      <td>Wind speed (m/s)</td>\n",
       "    </tr>\n",
       "    <tr>\n",
       "      <th>0</th>\n",
       "      <td>year</td>\n",
       "      <td>0.000162</td>\n",
       "      <td>Year increase by 1</td>\n",
       "    </tr>\n",
       "    <tr>\n",
       "      <th>29</th>\n",
       "      <td>month_season_spring</td>\n",
       "      <td>0.000092</td>\n",
       "      <td>Spring season</td>\n",
       "    </tr>\n",
       "  </tbody>\n",
       "</table>\n",
       "</div>"
      ],
      "text/plain": [
       "              Predictor  coefficient                        label\n",
       "1                  PM10     0.885317  PM10 concentration (ug/m^3)\n",
       "4                    CO     0.101542    CO concentration (ug/m^3)\n",
       "3                   NO2     0.007749   NO2 concentration (ug/m^3)\n",
       "2                   SO2     0.002313   SO2 concentration (ug/m^3)\n",
       "6                  PRES     0.001042               Pressure (hPa)\n",
       "5                    O3     0.000981    O3 concentration (ug/m^3)\n",
       "8                  WSPM     0.000802             Wind speed (m/s)\n",
       "0                  year     0.000162           Year increase by 1\n",
       "29  month_season_spring     0.000092                Spring season"
      ]
     },
     "execution_count": 983,
     "metadata": {},
     "output_type": "execute_result"
    }
   ],
   "source": [
    "df= df.loc[df['coefficient'] != 0]\n",
    "df['label']= ['PM10 concentration (ug/m^3)', 'CO concentration (ug/m^3)', 'NO2 concentration (ug/m^3)', \n",
    "             'SO2 concentration (ug/m^3)', 'Pressure (hPa)', 'O3 concentration (ug/m^3)', 'Wind speed (m/s)',\n",
    "             'Year increase by 1', 'Spring season']\n",
    "df"
   ]
  },
  {
   "cell_type": "markdown",
   "id": "a036ca03",
   "metadata": {},
   "source": [
    "**Residual plot in the test set**\n",
    "\n",
    "It looks like residuals are normally distributed. "
   ]
  },
  {
   "cell_type": "code",
   "execution_count": 901,
   "id": "303d0ea8",
   "metadata": {
    "scrolled": false
   },
   "outputs": [
    {
     "data": {
      "image/png": "[encoded data removed]",
      "text/plain": [
       "<Figure size 432x288 with 1 Axes>"
      ]
     },
     "metadata": {
      "needs_background": "light"
     },
     "output_type": "display_data"
    }
   ],
   "source": [
    "#plot residuals in test set \n",
    "y_pred= rf_best.predict(test_X)\n",
    "res= test_y.values.flatten()-y_pred\n",
    "plt.hist(res, bins=500, color='purple', alpha=0.8)\n",
    "plt.xlim(-150,150)\n",
    "plt.title(\"Residual plot in the test set\");"
   ]
  },
  {
   "cell_type": "markdown",
   "id": "047fbd62",
   "metadata": {},
   "source": [
    "**Residual plots by all features**\n",
    "\n",
    "Residual plots are helpful to see where the model made wrong predictions. A good model would have residuals randomly scattered around the y=0 line and there is a homoscedasticity along with the y=0 line. It is informative to plot residuals against each features. "
   ]
  },
  {
   "cell_type": "code",
   "execution_count": 987,
   "id": "c54dea21",
   "metadata": {},
   "outputs": [
    {
     "data": {
      "image/png": "[encoded data removed]",
      "text/plain": [
       "<Figure size 1080x720 with 20 Axes>"
      ]
     },
     "metadata": {
      "needs_background": "light"
     },
     "output_type": "display_data"
    }
   ],
   "source": [
    "#prepare the data\n",
    "train, test = train_test_split(original_df, test_size=0.3, random_state=42)\n",
    "#plot the distribution of numeric values \n",
    "fig, axs= plt.subplots(4,5, figsize=(15,10))\n",
    "ax= axs.ravel()\n",
    "for i in range(len(test.columns)): \n",
    "    ax[i].scatter(test.iloc[:, i],res, alpha=0.4, color= 'cornflowerblue')\n",
    "    ax[i].set_title(test.columns[i])\n",
    "plt.tight_layout()\n",
    "plt.show()"
   ]
  },
  {
   "cell_type": "markdown",
   "id": "35d44ecf",
   "metadata": {},
   "source": [
    "First, residuals are not randomly scattered against PM2.5, suggesting that there might be other predictors I didn't include in my model. It also looks like large residuals occured at observations where rain precipitation were low and wind speed was low. "
   ]
  },
  {
   "cell_type": "code",
   "execution_count": null,
   "id": "bdf85de4",
   "metadata": {},
   "outputs": [],
   "source": []
  }
 ],
 "metadata": {
  "kernelspec": {
   "display_name": "Python 3",
   "language": "python",
   "name": "python3"
  },
  "language_info": {
   "codemirror_mode": {
    "name": "ipython",
    "version": 3
   },
   "file_extension": ".py",
   "mimetype": "text/x-python",
   "name": "python",
   "nbconvert_exporter": "python",
   "pygments_lexer": "ipython3",
   "version": "3.8.8"
  }
 },
 "nbformat": 4,
 "nbformat_minor": 5
}
